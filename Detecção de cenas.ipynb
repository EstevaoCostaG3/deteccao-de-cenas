{
 "cells": [
  {
   "cell_type": "markdown",
   "metadata": {
    "colab_type": "text",
    "id": "hrl63GS0deZT"
   },
   "source": [
    "## Trabalho Prático 2 - Análise e Tratamento de Imagens e Vídeos Digitais"
   ]
  },
  {
   "cell_type": "code",
   "execution_count": 3,
   "metadata": {
    "colab": {},
    "colab_type": "code",
    "id": "6OFoDiPhjYuI"
   },
   "outputs": [],
   "source": [
    "import cv2 as cv\n",
    "import numpy as np\n",
    "from multiprocessing import Pool\n",
    "import warnings\n",
    "import time"
   ]
  },
  {
   "cell_type": "markdown",
   "metadata": {
    "colab_type": "text",
    "id": "b9dNr9vDlILL"
   },
   "source": [
    "### Quadros de corte de cena reais em cada vídeo"
   ]
  },
  {
   "cell_type": "code",
   "execution_count": 4,
   "metadata": {
    "colab": {},
    "colab_type": "code",
    "id": "tXyl8cvnlILM"
   },
   "outputs": [],
   "source": [
    "cortes_reais = {'titanic': [124, 332, 376, 513, 563, 636, 669, 685, 723, 788, 819, 920, 966, 1000, \n",
    "                           1123, 1384, 1611, 1667, 1820, 2138, 2223, 2305, 2615, 2889, 2990, 3109, 3659],\n",
    "                'pica_pau':[304, 914, 940, 1294, 1361, 1406, 1504, 1594, 1819, 1901, 2216, 2260, \n",
    "                            2341, 2429, 2628, 2704, 2804, 2860, 2929, 3004, 3160, 3530, 3604,\n",
    "                            3654, 3892, 4010, 4260, 4366, 4541, 4616, 4729, 4778],\n",
    "                'jornal' : [157, 458, 554, 1423, 1454, 1621, 1701],\n",
    "                'will_smith': [259, 512, 728, 1648, 1901, 2172, 2357, 2402, 2530, 3098, 3136, \n",
    "                               3411, 3738, 4595, 4602, 4640, 4665, 4693, 4771, 4799, 4877, 4906, \n",
    "                               5013, 5039, 5091, 5130, 5179, 5213, 5303, 5373, 5490, 5502, 5518, 5573],\n",
    "                'homem_de_ferro':[33, 98, 136, 231, 242, 300, 327, 350, 356, 381, 404, 433, 449, 483, 503, \n",
    "                                 582, 601, 647, 659, 683, 699, 714, 738, 756, 786, 812, 837, 856, 871, 904,\n",
    "                                 918, 953, 984, 1043, 1070, 1114, 1131, 1147, 1158, 1185, 1192, 1214, 1229,\n",
    "                                 1245, 1259, 1268, 1279,1288, 1296, 1312, 1337, 1360, 1385, 1401, 1419, 1437,\n",
    "                                 1449, 1458, 1470, 1510, 1523, 1595, 1639, 1666, 1679, 1701, 1724, 1775, 1800,\n",
    "                                 1833, 1941, 2023, 2117, 2212, 2276, 2315, 2520, 2558, 2686, 2708],\n",
    "                'mario_kart_tour': [31,  213, 262, 308, 361, 410, 459, 508, 559, 606, 708, 804, 901, 1001, 1101,\n",
    "                                  1198, 1289, 1394, 1445, 1496, 1545, 1592, 1693, 1735, 1772, 1827, 1854, 1939,\n",
    "                                  1988, 2058, 2081, 2113, 2145, 2170, 2199, 2221, 2245, 2276, 2295, 2316, 2333,\n",
    "                                  2457, 2732, 2741],\n",
    "                'pontos_federer': [20, 154, 178, 436, 668, 821, 927, 936, 947, 1039, 1486, 1553, 1765, 1887, 2949],\n",
    "                'coracao_valente': [23, 37, 108, 197, 338, 459, 528, 562, 587, 643, 708, 742, 787, 820, 982, 1100, \n",
    "                                   1125, 1237, 1315, 1378, 1436, 1470, 1512, 1570, 1625, 1671, 1733, 1877, 1942, \n",
    "                                   2073, 2120, 2400, 2428, 2451, 2792, 2914, 3235, 3291, 3311, 3343, 3367, 3451, \n",
    "                                   3676, 3709, 3743, 3845, 3936, 4081, 4112, 4151, 4317, 4378, 4458, 4506, 4554, \n",
    "                                   4579, 4618, 4659, 4699, 4750, 4841, 4883, 4940, 4959, 4972, 5016, 5030],\n",
    "                'warcraft_trailler': [120, 153, 178, 196, 236, 252, 285, 300, 362, 400, 430, 470, 504, 547, 579, \n",
    "                                     621, 628, 672, 702, 717, 727, 740, 760, 768, 782, 802, 874, 899, 925, 952, \n",
    "                                     1003, 1039, 1080, 1115, 1147, 1198, 1222, 1262, 1304, 1340, 1353, 1375, 1393, \n",
    "                                     1408, 1439, 1470, 1494, 1521, 1562, 1580, 1606, 1624, 1636, 1661, 1715, 1758, \n",
    "                                     1775, 1800, 1829, 1867, 1894, 1959, 1967, 1987, 2004, 2024, 2040, 2084, 2112, \n",
    "                                     2119, 2136, 2160, 2188, 2219, 2239, 2265, 2273, 2291, 2304, 2326, 2358, 2370, \n",
    "                                     2382, 2397, 2430, 2448, 2477, 2491, 2508, 2521, 2542, 2556, 2577, 2596, 2625, \n",
    "                                     2678, 2716, 2730, 2761, 2819, 2860, 2900, 3100, 3114, 3185], \n",
    "                'rei_leao': [30, 679, 801, 976, 1027, 1087, 1251, 1301, 1351, 1392, 1563, 1669, 1779, 1815, 1897, 2088,\n",
    "                            2279, 2371, 2508, 2535, 2565, 2632, 2728, 2847, 3122, 3229, 3286, 3413, 3649, 3711, 3997, \n",
    "                            4117, 4536, 4689], \n",
    "               }\n",
    "\n",
    "# Número de quadros dos vídeos:\n",
    "# reiLeao = 30 ; warcraft_trailler = 24 ; coracao_calente = 25 ; pontos_federer = 25 ; mario_kart_tour = 30 ; \n",
    "# homem_de_ferro = 24 ; will_smith = 30 ; jornal = 24 ; pica_pau = 30 ; titanic = 24;"
   ]
  },
  {
   "cell_type": "markdown",
   "metadata": {
    "colab_type": "text",
    "id": "zTnWgVB3EAuL"
   },
   "source": [
    "## Funções utilitárias"
   ]
  },
  {
   "cell_type": "code",
   "execution_count": 5,
   "metadata": {
    "colab": {},
    "colab_type": "code",
    "id": "CfI6m47ZR2l4"
   },
   "outputs": [],
   "source": [
    "def calcular_acuracia(quadros_de_corte_reais, quadros_de_corte_preditos, fps):\n",
    "    quadros_reais_identificados = []\n",
    "    if(len(quadros_de_corte_preditos) == 0):\n",
    "        return None\n",
    "    conta_predicoes_corretas = 0\n",
    "    predicoes_corretas = []\n",
    "    predicoes_erradas = []\n",
    "    for quadro_predito in quadros_de_corte_preditos:\n",
    "        is_predicao_correta = False\n",
    "        for quadro_real in quadros_de_corte_reais:\n",
    "            if((quadro_real - fps <= quadro_predito) and (quadro_predito <= quadro_real + fps)):\n",
    "                is_predicao_correta = True\n",
    "                if(not quadro_real in quadros_reais_identificados):\n",
    "                    predicoes_corretas.append(quadro_predito)\n",
    "                    conta_predicoes_corretas += 1\n",
    "                    quadros_reais_identificados.append(quadro_real)\n",
    "                    break\n",
    "            elif(quadro_real + fps > quadro_predito):\n",
    "                break\n",
    "        if(not is_predicao_correta):\n",
    "            predicoes_erradas.append(quadro_predito)\n",
    "                        \n",
    "    acuracia = conta_predicoes_corretas / len(quadros_de_corte_reais)\n",
    "    return acuracia, predicoes_corretas, predicoes_erradas\n",
    "\n",
    "def mostrar_resultados_da_deteccao_de_cenas(quadros_de_corte_reais, quadros_de_corte_preditos, fps):\n",
    "    resultado = calcular_acuracia(quadros_de_corte_reais, quadros_de_corte_preditos, fps)\n",
    "    if(resultado == None):\n",
    "        print('nenhum quadro de corte foi predito')\n",
    "        return\n",
    "    print('\\n','quadros reais:', quadros_de_corte_reais, '\\n')\n",
    "    print('acurácia: {0:.2f}'.format(resultado[0]), '\\n')\n",
    "    print('quadros preditos corretamente:', resultado[1], '\\n')\n",
    "    print('quadros preditos incorretamente:', resultado[2])\n",
    "    return resultado[0]\n",
    "\n",
    "def soma_das_diferencas(histograma1, histograma2):\n",
    "    return np.sum(abs(histograma1[:] - histograma2[:]))\n",
    "\n",
    "def dLog_em_pixel(valor):\n",
    "    if(valor > 1):\n",
    "        return np.ceil(np.log2(valor)) + 1\n",
    "    elif(valor == 0):\n",
    "        return 0\n",
    "    else:\n",
    "        return 1\n",
    "    \n",
    "def dLog(histograma1, histograma2):\n",
    "    distancia = 0\n",
    "    for i in range(len(histograma1)):\n",
    "        distancia += abs(dLog_em_pixel(histograma1[i]) - dLog_em_pixel(histograma2[i]))\n",
    "    return distancia\n",
    "\n",
    "def existe_corte_entre_bgr_histogramas(histogramas1, histogramas2, distancia, limiar):\n",
    "    if(distancia(histogramas1[0], histogramas2[0]) > limiar\n",
    "       or distancia(histogramas1[1], histogramas2[1]) > limiar\n",
    "       or distancia(histogramas1[2], histogramas2[2]) > limiar):\n",
    "        return True\n",
    "    else:\n",
    "        return False"
   ]
  },
  {
   "cell_type": "markdown",
   "metadata": {
    "colab_type": "text",
    "id": "OM2nJFO0fEvG"
   },
   "source": [
    "## 1. Histograma global"
   ]
  },
  {
   "cell_type": "code",
   "execution_count": 6,
   "metadata": {
    "colab": {},
    "colab_type": "code",
    "id": "l_i7vuJJfHKv"
   },
   "outputs": [],
   "source": [
    "def histograma_global(img):\n",
    "    histograma_azul = np.zeros(256, dtype = int)\n",
    "    histograma_verde = np.zeros(256, dtype = int)\n",
    "    histograma_vermelho = np.zeros(256, dtype = int)\n",
    "\n",
    "    for i in range(0, len(img)):\n",
    "        for j in range(0,len(img[1])):\n",
    "            bgr = img[i][j]\n",
    "            histograma_azul[bgr[0]] +=1\n",
    "            histograma_verde[bgr[1]] +=1\n",
    "            histograma_vermelho[bgr[2]] +=1\n",
    "\n",
    "    return histograma_azul, histograma_verde, histograma_vermelho\n",
    "\n",
    "def aplicar_histograma_global_em_video(video, fps, quadro_limite=None):\n",
    "    proximo_frame = (fps + 1) // 2\n",
    "    histogramas = []\n",
    "    cap = cv.VideoCapture(video)\n",
    "    total_de_frames = cap.get(7)\n",
    "    \n",
    "    cap.set(1, 1)\n",
    "    ret, frame = cap.read()\n",
    "    progresso = 0\n",
    "    while(proximo_frame < total_de_frames):\n",
    "        cap.set(1, proximo_frame)\n",
    "        ret, frame = cap.read()\n",
    "        if(ret == False):\n",
    "            break\n",
    "        histogramas.append((proximo_frame, histograma_global(frame)))\n",
    "        progresso = int(proximo_frame / total_de_frames * 100)\n",
    "        print(f'{progresso}%', end=' ')\n",
    "        proximo_frame += fps\n",
    "        if(quadro_limite != None):\n",
    "            if(proximo_frame >= quadro_limite):\n",
    "                cap.release()\n",
    "                cv.destroyAllWindows()\n",
    "                print(\"parou no quadro limite\")\n",
    "                return histogramas\n",
    "    cap.release()\n",
    "    cv.destroyAllWindows()\n",
    "    print('100%')\n",
    "    return histogramas\n",
    "\n",
    "def get_quadros_de_corte_do_histograma_global(histogramas, distancia, limiar):\n",
    "    quadros_de_corte = []\n",
    "    for k in range(len(histogramas) - 1):\n",
    "        bgr_histogramas1 = histogramas[k][1]\n",
    "        bgr_histogramas2 = histogramas[k + 1][1]\n",
    "        if(existe_corte_entre_bgr_histogramas(bgr_histogramas1, bgr_histogramas2, distancia, limiar)):\n",
    "            quadros_de_corte.append((histogramas[k][0]))\n",
    "    return quadros_de_corte\n",
    "\n",
    "def roda_experimento_histograma_global(video, fps, quadros_de_corte_reais, distancia, limiar, quadro_limite=None):\n",
    "    histogramas = aplicar_histograma_global_em_video(video, fps, quadro_limite=quadro_limite)\n",
    "    quadros_de_corte_preditos = get_quadros_de_corte_do_histograma_global(histogramas, distancia, limiar)\n",
    "    return mostrar_resultados_da_deteccao_de_cenas(quadros_de_corte_reais, quadros_de_corte_preditos, fps)"
   ]
  },
  {
   "cell_type": "markdown",
   "metadata": {
    "colab_type": "text",
    "id": "zu2fmH_Ooycb"
   },
   "source": [
    "## Detecção de cenas"
   ]
  },
  {
   "cell_type": "code",
   "execution_count": 5,
   "metadata": {
    "colab": {},
    "colab_type": "code",
    "id": "VAggIlP0mRql"
   },
   "outputs": [],
   "source": [
    "limiar_histograma_global = 150000"
   ]
  },
  {
   "cell_type": "markdown",
   "metadata": {
    "colab_type": "text",
    "id": "Ozn1WWxcmRqr"
   },
   "source": [
    "### Titanic"
   ]
  },
  {
   "cell_type": "code",
   "execution_count": 6,
   "metadata": {
    "colab": {},
    "colab_type": "code",
    "id": "Pj8oi95hoycd",
    "outputId": "05756a3f-446a-4a40-c6d5-f2f517d55f8d",
    "scrolled": true
   },
   "outputs": [
    {
     "name": "stdout",
     "output_type": "stream",
     "text": [
      "0% 0% 1% 2% 2% 3% 3% 4% 5% 5% 6% 6% 7% 8% 8% 9% 9% 10% 11% 11% 12% 12% 13% 14% 14% 15% 15% 16% 17% 17% 18% 18% 19% 20% 20% 21% 21% 22% 23% 23% 24% 24% 25% 26% 26% 27% 27% 28% 29% 29% 30% 30% 31% 32% 32% 33% 33% 34% 35% 35% 36% 36% 37% 38% 38% 39% 39% 40% 41% 41% 42% 42% 43% 44% 44% 45% 45% 46% 47% 47% 48% 48% 49% 50% 50% 51% 51% 52% 53% 53% 54% 54% 55% 56% 56% 57% 57% 58% 59% 59% 60% 60% 61% 62% 62% 63% 63% 64% 65% 65% 66% 66% 67% 68% 68% 69% 69% 70% 71% 71% 72% 72% 73% 74% 74% 75% 75% 76% 77% 77% 78% 78% 79% 80% 80% 81% 81% 82% 83% 83% 84% 84% 85% 86% 86% 87% 87% 88% 89% 89% 90% 90% 91% 92% 92% 93% 93% 94% 95% 95% 96% 96% 97% 98% 98% 99% 99% 100%\n",
      "\n",
      " quadros reais: [124, 332, 376, 513, 563, 636, 669, 685, 723, 788, 819, 920, 966, 1000, 1123, 1384, 1611, 1667, 1820, 2138, 2223, 2305, 2615, 2889, 2990, 3109, 3659] \n",
      "\n",
      "acurácia: 0.89 \n",
      "\n",
      "quadros preditos corretamente: [108, 324, 372, 492, 540, 612, 660, 684, 708, 780, 804, 900, 948, 996, 1380, 1596, 1812, 2124, 2220, 2292, 2604, 2868, 3108, 3636] \n",
      "\n",
      "quadros preditos incorretamente: [3900, 3924, 3948]\n"
     ]
    },
    {
     "data": {
      "text/plain": [
       "0.8888888888888888"
      ]
     },
     "execution_count": 6,
     "metadata": {},
     "output_type": "execute_result"
    }
   ],
   "source": [
    "roda_experimento_histograma_global('titanic-640x360.mp4', 24, cortes_reais['titanic'], \n",
    "                                           soma_das_diferencas, limiar_histograma_global)"
   ]
  },
  {
   "cell_type": "markdown",
   "metadata": {
    "colab_type": "text",
    "id": "TUONV-oRmRq0"
   },
   "source": [
    "### Pica pau"
   ]
  },
  {
   "cell_type": "code",
   "execution_count": 7,
   "metadata": {
    "colab": {},
    "colab_type": "code",
    "id": "rYWNdHa3oycl",
    "outputId": "c7b4893d-b668-4b97-cfe5-8d5f5e30e170"
   },
   "outputs": [
    {
     "name": "stdout",
     "output_type": "stream",
     "text": [
      "0% 0% 1% 2% 2% 3% 4% 4% 5% 5% 6% 7% 7% 8% 9% 9% 10% 10% 11% 12% 12% 13% 13% 14% 15% 15% 16% 17% 17% 18% 18% 19% 20% 20% 21% 22% 22% 23% 23% 24% 25% 25% 26% 27% 27% 28% 28% 29% 30% 30% 31% 32% 32% 33% 33% 34% 35% 35% 36% 36% 37% 38% 38% 39% 40% 40% 41% 41% 42% 43% 43% 44% 45% 45% 46% 46% 47% 48% 48% 49% 50% 50% 51% 51% 52% 53% 53% 54% 55% 55% 56% 56% 57% 58% 58% 59% 59% 60% 61% 61% 62% 63% 63% 64% 64% 65% 66% 66% 67% 68% 68% 69% 69% 70% 71% 71% 72% 73% 73% 74% 74% 75% 76% 76% 77% 78% 78% 79% 79% 80% 81% 81% 82% 82% 83% 84% 84% 85% 86% 86% 87% 87% 88% 89% 89% 90% 91% 91% 92% 92% 93% 94% 94% 95% 96% 96% 97% 97% 98% 99% 99% 100%\n",
      "\n",
      " quadros reais: [304, 914, 940, 1294, 1361, 1406, 1504, 1594, 1819, 1901, 2216, 2260, 2341, 2429, 2628, 2704, 2804, 2860, 2929, 3004, 3160, 3530, 3604, 3654, 3892, 4010, 4260, 4366, 4541, 4616, 4729, 4778] \n",
      "\n",
      "acurácia: 0.69 \n",
      "\n",
      "quadros preditos corretamente: [285, 885, 915, 1275, 1395, 1485, 1575, 1815, 2205, 2235, 2325, 2415, 2625, 2685, 2925, 3135, 4005, 4245, 4515, 4605, 4725, 4755] \n",
      "\n",
      "quadros preditos incorretamente: [435, 1065, 2025, 3465, 3495, 4065, 4095, 4155, 4185, 4695]\n"
     ]
    },
    {
     "data": {
      "text/plain": [
       "0.6875"
      ]
     },
     "execution_count": 7,
     "metadata": {},
     "output_type": "execute_result"
    }
   ],
   "source": [
    "roda_experimento_histograma_global('pica-pau.mkv', 30, cortes_reais['pica_pau'], \n",
    "                                           soma_das_diferencas, limiar_histograma_global)"
   ]
  },
  {
   "cell_type": "markdown",
   "metadata": {
    "colab_type": "text",
    "id": "EVowr2vnEGxP"
   },
   "source": [
    "### Jornal G1"
   ]
  },
  {
   "cell_type": "code",
   "execution_count": 8,
   "metadata": {
    "colab": {},
    "colab_type": "code",
    "id": "Y8WkqS5MEGxR",
    "outputId": "926c6940-2244-483e-b8c5-4972eace50fa"
   },
   "outputs": [
    {
     "name": "stdout",
     "output_type": "stream",
     "text": [
      "0% 1% 1% 2% 3% 4% 4% 5% 6% 7% 8% 8% 9% 10% 11% 11% 12% 13% 14% 14% 15% 16% 17% 17% 18% 19% 20% 21% 21% 22% 23% 24% 24% 25% 26% 27% 27% 28% 29% 30% 30% 31% 32% 33% 34% 34% 35% 36% 37% 37% 38% 39% 40% 40% 41% 42% 43% 43% 44% 45% 46% 47% 47% 48% 49% 50% 50% 51% 52% 53% 53% 54% 55% 56% 56% 57% 58% 59% 60% 60% 61% 62% 63% 63% 64% 65% 66% 66% 67% 68% 69% 70% 70% 71% 72% 73% 73% 74% 75% 76% 76% 77% 78% 79% 79% 80% 81% 82% 83% 83% 84% 85% 86% 86% 87% 88% 89% 89% 90% 91% 92% 92% 93% 94% 95% 96% 96% 97% 98% 99% 99% 100%\n",
      "\n",
      " quadros reais: [157, 458, 554, 1423, 1454, 1621, 1701] \n",
      "\n",
      "acurácia: 0.71 \n",
      "\n",
      "quadros preditos corretamente: [147, 455, 553, 1449, 1687] \n",
      "\n",
      "quadros preditos incorretamente: [21, 35, 63, 105, 1407, 1603, 1743]\n"
     ]
    },
    {
     "data": {
      "text/plain": [
       "0.7142857142857143"
      ]
     },
     "execution_count": 8,
     "metadata": {},
     "output_type": "execute_result"
    }
   ],
   "source": [
    "roda_experimento_histograma_global('jornal.mkv', 14, cortes_reais['jornal'], \n",
    "                                   soma_das_diferencas, limiar_histograma_global)"
   ]
  },
  {
   "cell_type": "markdown",
   "metadata": {
    "colab_type": "text",
    "id": "6kzp5cmuEGxW"
   },
   "source": [
    "### Entrevista do Will Smith"
   ]
  },
  {
   "cell_type": "code",
   "execution_count": 9,
   "metadata": {
    "colab": {},
    "colab_type": "code",
    "id": "Axv462EeEGxX"
   },
   "outputs": [
    {
     "name": "stdout",
     "output_type": "stream",
     "text": [
      "0% 0% 1% 1% 2% 2% 3% 3% 4% 4% 5% 5% 6% 6% 7% 7% 8% 8% 9% 10% 10% 11% 11% 12% 12% 13% 13% 14% 14% 15% 15% 16% 16% 17% 17% 18% 18% 19% 19% 20% 20% 21% 21% 22% 22% 23% 23% 24% 24% 25% 25% 26% 26% 27% 27% 28% 29% 29% 30% 30% 31% 31% 32% 32% 33% 33% 34% 34% 35% 35% 36% 36% 37% 37% 38% 38% 39% 39% 40% 40% 41% 41% 42% 42% 43% 43% 44% 44% 45% 45% 46% 46% 47% 48% 48% 49% 49% 50% 50% 51% 51% 52% 52% 53% 53% 54% 54% 55% 55% 56% 56% 57% 57% 58% 58% 59% 59% 60% 60% 61% 61% 62% 62% 63% 63% 64% 64% 65% 65% 66% 67% 67% 68% 68% 69% 69% 70% 70% 71% 71% 72% 72% 73% 73% 74% 74% 75% 75% 76% 76% 77% 77% 78% 78% 79% 79% 80% 80% 81% 81% 82% 82% 83% 83% 84% 84% 85% 86% 86% 87% 87% 88% 88% 89% 89% 90% 90% 91% 91% 92% 92% 93% 93% 94% 94% 95% 95% 96% 96% 97% 97% 98% 98% 99% 99% 100%\n",
      "\n",
      " quadros reais: [259, 512, 728, 1648, 1901, 2172, 2357, 2402, 2530, 3098, 3136, 3411, 3738, 4595, 4602, 4640, 4665, 4693, 4771, 4799, 4877, 4906, 5013, 5039, 5091, 5130, 5179, 5213, 5303, 5373, 5490, 5502, 5518, 5573] \n",
      "\n",
      "acurácia: 0.21 \n",
      "\n",
      "quadros preditos corretamente: [255, 495, 4575, 5475, 5505, 5535, 5565] \n",
      "\n",
      "quadros preditos incorretamente: []\n"
     ]
    },
    {
     "data": {
      "text/plain": [
       "0.20588235294117646"
      ]
     },
     "execution_count": 9,
     "metadata": {},
     "output_type": "execute_result"
    }
   ],
   "source": [
    "roda_experimento_histograma_global('will_smith_interview360p.mp4', 30, cortes_reais['will_smith'], \n",
    "                                   soma_das_diferencas, limiar_histograma_global)"
   ]
  },
  {
   "cell_type": "markdown",
   "metadata": {
    "colab_type": "text",
    "id": "tX3pPGSzEGxa"
   },
   "source": [
    "### Trailer do Homem de Ferro"
   ]
  },
  {
   "cell_type": "code",
   "execution_count": 10,
   "metadata": {
    "colab": {},
    "colab_type": "code",
    "id": "h8ruK0o6EGxb"
   },
   "outputs": [
    {
     "name": "stdout",
     "output_type": "stream",
     "text": [
      "0% 1% 2% 2% 3% 4% 5% 6% 7% 7% 8% 9% 10% 11% 12% 12% 13% 14% 15% 16% 16% 17% 18% 19% 20% 21% 21% 22% 23% 24% 25% 26% 26% 27% 28% 29% 30% 31% 31% 32% 33% 34% 35% 36% 36% 37% 38% 39% 40% 41% 41% 42% 43% 44% 45% 46% 46% 47% 48% 49% 50% 50% 51% 52% 53% 54% 55% 55% 56% 57% 58% 59% 60% 60% 61% 62% 63% 64% 65% 65% 66% 67% 68% 69% 70% 70% 71% 72% 73% 74% 75% 75% 76% 77% 78% 79% 80% 80% 81% 82% 83% 84% 84% 85% 86% 87% 88% 89% 89% 90% 91% 92% 93% 94% 94% 95% 96% 97% 98% 99% 99% 100%\n",
      "\n",
      " quadros reais: [33, 98, 136, 231, 242, 300, 327, 350, 356, 381, 404, 433, 449, 483, 503, 582, 601, 647, 659, 683, 699, 714, 738, 756, 786, 812, 837, 856, 871, 904, 918, 953, 984, 1043, 1070, 1114, 1131, 1147, 1158, 1185, 1192, 1214, 1229, 1245, 1259, 1268, 1279, 1288, 1296, 1312, 1337, 1360, 1385, 1401, 1419, 1437, 1449, 1458, 1470, 1510, 1523, 1595, 1639, 1666, 1679, 1701, 1724, 1775, 1800, 1833, 1941, 2023, 2117, 2212, 2276, 2315, 2520, 2558, 2686, 2708] \n",
      "\n",
      "acurácia: 0.72 \n",
      "\n",
      "quadros preditos corretamente: [12, 84, 228, 276, 324, 348, 372, 396, 420, 444, 468, 492, 564, 588, 636, 660, 684, 708, 732, 756, 780, 804, 852, 876, 900, 948, 972, 1020, 1068, 1092, 1116, 1140, 1164, 1188, 1212, 1236, 1308, 1332, 1356, 1380, 1404, 1452, 1476, 1500, 1620, 1644, 1668, 1764, 1812, 2004, 2100, 2196, 2268, 2292, 2508, 2556, 2676, 2700] \n",
      "\n",
      "quadros preditos incorretamente: [204, 2052, 2076, 2412, 2484, 2652, 2820]\n"
     ]
    },
    {
     "data": {
      "text/plain": [
       "0.725"
      ]
     },
     "execution_count": 10,
     "metadata": {},
     "output_type": "execute_result"
    }
   ],
   "source": [
    "roda_experimento_histograma_global('homem_de_ferro_3_trailer.mp4', 24, cortes_reais['homem_de_ferro'], \n",
    "                                  soma_das_diferencas, limiar_histograma_global)"
   ]
  },
  {
   "cell_type": "markdown",
   "metadata": {
    "colab_type": "text",
    "id": "awhstnql6T2h"
   },
   "source": [
    "### Mario Kart"
   ]
  },
  {
   "cell_type": "code",
   "execution_count": 11,
   "metadata": {
    "colab": {},
    "colab_type": "code",
    "id": "jUNjQmv56T2h"
   },
   "outputs": [
    {
     "name": "stdout",
     "output_type": "stream",
     "text": [
      "0% 1% 2% 3% 4% 5% 6% 7% 9% 10% 11% 12% 13% 14% 15% 16% 17% 18% 19% 20% 21% 22% 23% 24% 25% 27% 28% 29% 30% 31% 32% 33% 34% 35% 36% 37% 38% 39% 40% 41% 42% 43% 45% 46% 47% 48% 49% 50% 51% 52% 53% 54% 55% 56% 57% 58% 59% 60% 61% 63% 64% 65% 66% 67% 68% 69% 70% 71% 72% 73% 74% 75% 76% 77% 78% 79% 81% 82% 83% 84% 85% 86% 87% 88% 89% 90% 91% 92% 93% 94% 95% 96% 97% 99% 100%\n",
      "nenhum quadro de corte foi predito\n"
     ]
    }
   ],
   "source": [
    "roda_experimento_histograma_global('marioKartTour360p.mp4', 30, cortes_reais['mario_kart_tour'], \n",
    "                                  soma_das_diferencas, limiar_histograma_global)"
   ]
  },
  {
   "cell_type": "markdown",
   "metadata": {
    "colab_type": "text",
    "id": "TaG8Ky_E6T2j"
   },
   "source": [
    "### Ponto de Federer"
   ]
  },
  {
   "cell_type": "code",
   "execution_count": 12,
   "metadata": {
    "colab": {},
    "colab_type": "code",
    "id": "IehP0KFh6T2l"
   },
   "outputs": [
    {
     "name": "stdout",
     "output_type": "stream",
     "text": [
      "0% 1% 2% 2% 3% 4% 5% 6% 6% 7% 8% 9% 10% 10% 11% 12% 13% 14% 14% 15% 16% 17% 18% 18% 19% 20% 21% 22% 23% 23% 24% 25% 26% 27% 27% 28% 29% 30% 31% 31% 32% 33% 34% 35% 35% 36% 37% 38% 39% 39% 40% 41% 42% 43% 43% 44% 45% 46% 47% 48% 48% 49% 50% 51% 52% 52% 53% 54% 55% 56% 56% 57% 58% 59% 60% 60% 61% 62% 63% 64% 64% 65% 66% 67% 68% 69% 69% 70% 71% 72% 73% 73% 74% 75% 76% 77% 77% 78% 79% 80% 81% 81% 82% 83% 84% 85% 85% 86% 87% 88% 89% 89% 90% 91% 92% 93% 94% 94% 95% 96% 97% 98% 98% 99% 100%\n",
      "\n",
      " quadros reais: [20, 154, 178, 436, 668, 821, 927, 936, 947, 1039, 1486, 1553, 1765, 1887, 2949] \n",
      "\n",
      "acurácia: 0.80 \n",
      "\n",
      "quadros preditos corretamente: [13, 138, 163, 413, 663, 813, 913, 1038, 1463, 1538, 1763, 1863] \n",
      "\n",
      "quadros preditos incorretamente: []\n"
     ]
    },
    {
     "data": {
      "text/plain": [
       "0.8"
      ]
     },
     "execution_count": 12,
     "metadata": {},
     "output_type": "execute_result"
    }
   ],
   "source": [
    "roda_experimento_histograma_global('pontoFederer_360p.mp4', 25, cortes_reais['pontos_federer'], \n",
    "                                  soma_das_diferencas, limiar_histograma_global)"
   ]
  },
  {
   "cell_type": "markdown",
   "metadata": {
    "colab_type": "text",
    "id": "H4uDVncD6T2s"
   },
   "source": [
    "### Coração Valente"
   ]
  },
  {
   "cell_type": "code",
   "execution_count": 13,
   "metadata": {
    "colab": {},
    "colab_type": "code",
    "id": "744J_by06T2t"
   },
   "outputs": [
    {
     "name": "stdout",
     "output_type": "stream",
     "text": [
      "0% 0% 1% 1% 2% 2% 3% 3% 4% 4% 5% 5% 6% 6% 7% 7% 8% 8% 9% 9% 10% 10% 11% 11% 12% 12% 12% 13% 13% 14% 14% 15% 15% 16% 16% 17% 17% 18% 18% 19% 19% 20% 20% 21% 21% 22% 22% 23% 23% 24% 24% 25% 25% 26% 26% 27% 27% 28% 28% 29% 29% 30% 30% 31% 31% 32% 32% 33% 33% 34% 34% 35% 35% 36% 36% 36% 37% 37% 38% 38% 39% 39% 40% 40% 41% 41% 42% 42% 43% 43% 44% 44% 45% 45% 46% 46% 47% 47% 48% 48% 49% 49% 50% 50% 51% 51% 52% 52% 53% 53% 54% 54% 55% 55% 56% 56% 57% 57% 58% 58% 59% 59% 60% 60% 61% 61% 61% 62% 62% 63% 63% 64% 64% 65% 65% 66% 66% 67% 67% 68% 68% 69% 69% 70% 70% 71% 71% 72% 72% 73% 73% 74% 74% 75% 75% 76% 76% 77% 77% 78% 78% 79% 79% 80% 80% 81% 81% 82% 82% 83% 83% 84% 84% 85% 85% 85% 86% 86% 87% 87% 88% 88% 89% 89% 90% 90% 91% 91% 92% 92% 93% 93% 94% 94% 95% 95% 96% 96% 97% 97% 98% 98% 99% 99% 100%\n",
      "\n",
      " quadros reais: [23, 37, 108, 197, 338, 459, 528, 562, 587, 643, 708, 742, 787, 820, 982, 1100, 1125, 1237, 1315, 1378, 1436, 1470, 1512, 1570, 1625, 1671, 1733, 1877, 1942, 2073, 2120, 2400, 2428, 2451, 2792, 2914, 3235, 3291, 3311, 3343, 3367, 3451, 3676, 3709, 3743, 3845, 3936, 4081, 4112, 4151, 4317, 4378, 4458, 4506, 4554, 4579, 4618, 4659, 4699, 4750, 4841, 4883, 4940, 4959, 4972, 5016, 5030] \n",
      "\n",
      "acurácia: 0.48 \n",
      "\n",
      "quadros preditos corretamente: [13, 88, 188, 438, 513, 1363, 1413, 1463, 1488, 1613, 1663, 1713, 1863, 1938, 2063, 2388, 2438, 2788, 3438, 3663, 3738, 3838, 3913, 4063, 4088, 4313, 4438, 4613, 4738, 4838, 4938, 5013] \n",
      "\n",
      "quadros preditos incorretamente: [2888]\n"
     ]
    },
    {
     "data": {
      "text/plain": [
       "0.47761194029850745"
      ]
     },
     "execution_count": 13,
     "metadata": {},
     "output_type": "execute_result"
    }
   ],
   "source": [
    "roda_experimento_histograma_global('coracaoValenteDiscurso_360p.mp4', 25, cortes_reais['coracao_valente'], \n",
    "                                  soma_das_diferencas, limiar_histograma_global)"
   ]
  },
  {
   "cell_type": "markdown",
   "metadata": {
    "colab_type": "text",
    "id": "QrEdt7SO6T2v"
   },
   "source": [
    "### Trailer de Warcraft"
   ]
  },
  {
   "cell_type": "code",
   "execution_count": 14,
   "metadata": {
    "colab": {},
    "colab_type": "code",
    "id": "URa2SMCnEGxe",
    "scrolled": false
   },
   "outputs": [
    {
     "name": "stdout",
     "output_type": "stream",
     "text": [
      "0% 1% 1% 2% 3% 4% 4% 5% 6% 7% 7% 8% 9% 10% 10% 11% 12% 13% 13% 14% 15% 16% 16% 17% 18% 19% 19% 20% 21% 22% 22% 23% 24% 25% 25% 26% 27% 28% 28% 29% 30% 31% 31% 32% 33% 34% 34% 35% 36% 37% 37% 38% 39% 40% 40% 41% 42% 43% 43% 44% 45% 46% 47% 47% 48% 49% 50% 50% 51% 52% 53% 53% 54% 55% 56% 56% 57% 58% 59% 59% 60% 61% 62% 62% 63% 64% 65% 65% 66% 67% 68% 68% 69% 70% 71% 71% 72% 73% 74% 74% 75% 76% 77% 77% 78% 79% 80% 80% 81% 82% 83% 83% 84% 85% 86% 86% 87% 88% 89% 89% 90% 91% 92% 92% 93% 94% 95% 95% 96% 97% 98% 98% 99% 100%\n",
      "\n",
      " quadros reais: [120, 153, 178, 196, 236, 252, 285, 300, 362, 400, 430, 470, 504, 547, 579, 621, 628, 672, 702, 717, 727, 740, 760, 768, 782, 802, 874, 899, 925, 952, 1003, 1039, 1080, 1115, 1147, 1198, 1222, 1262, 1304, 1340, 1353, 1375, 1393, 1408, 1439, 1470, 1494, 1521, 1562, 1580, 1606, 1624, 1636, 1661, 1715, 1758, 1775, 1800, 1829, 1867, 1894, 1959, 1967, 1987, 2004, 2024, 2040, 2084, 2112, 2119, 2136, 2160, 2188, 2219, 2239, 2265, 2273, 2291, 2304, 2326, 2358, 2370, 2382, 2397, 2430, 2448, 2477, 2491, 2508, 2521, 2542, 2556, 2577, 2596, 2625, 2678, 2716, 2730, 2761, 2819, 2860, 2900, 3100, 3114, 3185] \n",
      "\n",
      "acurácia: 0.63 \n",
      "\n",
      "quadros preditos corretamente: [108, 132, 156, 180, 228, 276, 300, 324, 348, 396, 420, 468, 540, 564, 612, 636, 660, 732, 756, 780, 852, 876, 972, 996, 1020, 1068, 1164, 1188, 1404, 1428, 1452, 1476, 1500, 1524, 1572, 1620, 1692, 1884, 1908, 1956, 2004, 2076, 2100, 2124, 2148, 2172, 2196, 2244, 2268, 2316, 2340, 2412, 2436, 2556, 2580, 2604, 2628, 2676, 2700, 2724, 2748, 2820, 2868, 2892, 3084, 3108] \n",
      "\n",
      "quadros preditos incorretamente: [1932, 2652, 3060, 3156]\n"
     ]
    },
    {
     "data": {
      "text/plain": [
       "0.6285714285714286"
      ]
     },
     "execution_count": 14,
     "metadata": {},
     "output_type": "execute_result"
    }
   ],
   "source": [
    "roda_experimento_histograma_global('warcraftTrailler360p.mp4', 24, cortes_reais['warcraft_trailler'], \n",
    "                                  soma_das_diferencas, limiar_histograma_global)"
   ]
  },
  {
   "cell_type": "markdown",
   "metadata": {
    "colab_type": "text",
    "id": "HskLmWBpgFgP"
   },
   "source": [
    "### Rei Leão"
   ]
  },
  {
   "cell_type": "code",
   "execution_count": 15,
   "metadata": {
    "colab": {},
    "colab_type": "code",
    "id": "Pi0Rd7eLgFgS"
   },
   "outputs": [
    {
     "name": "stdout",
     "output_type": "stream",
     "text": [
      "0% 0% 1% 2% 2% 3% 4% 4% 5% 6% 6% 7% 7% 8% 9% 9% 10% 11% 11% 12% 13% 13% 14% 15% 15% 16% 16% 17% 18% 18% 19% 20% 20% 21% 22% 22% 23% 23% 24% 25% 25% 26% 27% 27% 28% 29% 29% 30% 30% 31% 32% 32% 33% 34% 34% 35% 36% 36% 37% 37% 38% 39% 39% 40% 41% 41% 42% 43% 43% 44% 45% 45% 46% 46% 47% 48% 48% 49% 50% 50% 51% 52% 52% 53% 53% 54% 55% 55% 56% 57% 57% 58% 59% 59% 60% 60% 61% 62% 62% 63% 64% 64% 65% 66% 66% 67% 68% 68% 69% 69% 70% 71% 71% 72% 73% 73% 74% 75% 75% 76% 76% 77% 78% 78% 79% 80% 80% 81% 82% 82% 83% 83% 84% 85% 85% 86% 87% 87% 88% 89% 89% 90% 90% 91% 92% 92% 93% 94% 94% 95% 96% 96% 97% 98% 98% 99% 99% 100%\n",
      "\n",
      " quadros reais: [30, 679, 801, 976, 1027, 1087, 1251, 1301, 1351, 1392, 1563, 1669, 1779, 1815, 1897, 2088, 2279, 2371, 2508, 2535, 2565, 2632, 2728, 2847, 3122, 3229, 3286, 3413, 3649, 3711, 3997, 4117, 4536, 4689] \n",
      "\n",
      "acurácia: 0.85 \n",
      "\n",
      "quadros preditos corretamente: [15, 675, 795, 975, 1005, 1275, 1335, 1545, 1665, 1755, 1785, 1875, 2085, 2265, 2355, 2505, 2535, 2625, 2715, 2835, 3105, 3225, 3405, 3645, 3705, 3975, 4095, 4515, 4665] \n",
      "\n",
      "quadros preditos incorretamente: [255, 315, 345, 375, 1965, 1995, 3075, 3825, 4275, 4635]\n"
     ]
    },
    {
     "data": {
      "text/plain": [
       "0.8529411764705882"
      ]
     },
     "execution_count": 15,
     "metadata": {},
     "output_type": "execute_result"
    }
   ],
   "source": [
    "roda_experimento_histograma_global('reiLeao_360p.mp4', 30, cortes_reais['rei_leao'], \n",
    "                                  soma_das_diferencas, limiar_histograma_global)"
   ]
  },
  {
   "cell_type": "markdown",
   "metadata": {
    "colab_type": "text",
    "id": "6nlJIsMpfJm4"
   },
   "source": [
    "## 2. Histograma Local - Particionamento grid 5x5"
   ]
  },
  {
   "cell_type": "code",
   "execution_count": 7,
   "metadata": {
    "colab": {},
    "colab_type": "code",
    "id": "ykH7p7M2Tsu-"
   },
   "outputs": [],
   "source": [
    "def aplicar_histograma_local_com_grid_em_video(video, fps, quadro_limite=None):\n",
    "    proximo_frame = (fps + 1) // 2\n",
    "    histogramas = [[[] for i in range(10)] for j in range(10)]\n",
    "    cap = cv.VideoCapture(video)\n",
    "    total_de_frames = cap.get(7)\n",
    "    \n",
    "    cap.set(1, 1)\n",
    "    ret, frame = cap.read()\n",
    "    dimensoes_do_grid = [frame.shape[0] // 5, frame.shape[1] // 5]\n",
    "    progresso = 0\n",
    "    while(proximo_frame < total_de_frames):\n",
    "        cap.set(1, proximo_frame)\n",
    "        ret, frame = cap.read()\n",
    "        if(ret == False):\n",
    "            break\n",
    "        for i in range(5):\n",
    "            for j in range(5):\n",
    "                i_limite_inferior = i*dimensoes_do_grid[0]\n",
    "                i_limite_superior = i_limite_inferior + dimensoes_do_grid[0] + 1\n",
    "                j_limite_inferior = j*dimensoes_do_grid[1]\n",
    "                j_limite_superior = j_limite_inferior + dimensoes_do_grid[1] + 1\n",
    "                grid_atual = frame[i_limite_inferior:i_limite_superior, j_limite_inferior:j_limite_superior]\n",
    "                histogramas[i][j].append((proximo_frame, histograma_global(grid_atual)))\n",
    "        progresso = int(proximo_frame / total_de_frames * 100)\n",
    "        print(f'{progresso}%', end=' ')\n",
    "        proximo_frame += fps\n",
    "        if(quadro_limite != None):\n",
    "            if(proximo_frame >= quadro_limite):\n",
    "                cap.release()\n",
    "                cv.destroyAllWindows()\n",
    "                print(\"parou no quadro limite\")\n",
    "                return histogramas\n",
    "    cap.release()\n",
    "    cv.destroyAllWindows()\n",
    "    print('100%')\n",
    "    return histogramas\n",
    "\n",
    "def get_quadros_de_corte_do_histograma_local_com_grid(histogramas, distancia, limiar):\n",
    "    quadros_de_corte = []\n",
    "    for k in range(len(histogramas[0][0]) - 1):\n",
    "        corte_encontrado = False\n",
    "        for i in range(5):\n",
    "            if(corte_encontrado):\n",
    "                break\n",
    "            for j in range(5):\n",
    "                bgr_histogramas1 = histogramas[i][j][k][1]\n",
    "                bgr_histogramas2 = histogramas[i][j][k + 1][1]\n",
    "                if(existe_corte_entre_bgr_histogramas(bgr_histogramas1, bgr_histogramas2, distancia, limiar)):\n",
    "                    quadros_de_corte.append((histogramas[i][j][k][0]))\n",
    "                    corte_encontrado = True\n",
    "                    break\n",
    "    return quadros_de_corte\n",
    "\n",
    "def roda_experimento_histograma_local_com_grid(video, fps, quadros_de_corte_reais, distancia, limiar, quadro_limite=None):\n",
    "    histogramas = aplicar_histograma_local_com_grid_em_video(video, fps, quadro_limite=quadro_limite)\n",
    "    quadros_de_corte_preditos = get_quadros_de_corte_do_histograma_local_com_grid(histogramas, distancia, limiar)\n",
    "    return mostrar_resultados_da_deteccao_de_cenas(quadros_de_corte_reais, quadros_de_corte_preditos, fps)"
   ]
  },
  {
   "cell_type": "markdown",
   "metadata": {
    "colab_type": "text",
    "id": "x2UvNe2D1k81"
   },
   "source": [
    "## Detecção de cenas"
   ]
  },
  {
   "cell_type": "code",
   "execution_count": 17,
   "metadata": {
    "colab": {},
    "colab_type": "code",
    "id": "AhX_rzyjmRrt"
   },
   "outputs": [],
   "source": [
    "limiar_histograma_local_com_grid = 11000"
   ]
  },
  {
   "cell_type": "markdown",
   "metadata": {
    "colab_type": "text",
    "id": "wDU3ZUPP1k83"
   },
   "source": [
    "### Titanic"
   ]
  },
  {
   "cell_type": "code",
   "execution_count": 18,
   "metadata": {
    "colab": {
     "base_uri": "https://localhost:8080/",
     "height": 352
    },
    "colab_type": "code",
    "id": "HWNBQZiO1k85",
    "outputId": "d90194cb-722b-4414-f8bd-2a41e4001d6c",
    "scrolled": true
   },
   "outputs": [
    {
     "name": "stdout",
     "output_type": "stream",
     "text": [
      "0% 0% 1% 2% 2% 3% 3% 4% 5% 5% 6% 6% 7% 8% 8% 9% 9% 10% 11% 11% 12% 12% 13% 14% 14% 15% 15% 16% 17% 17% 18% 18% 19% 20% 20% 21% 21% 22% 23% 23% 24% 24% 25% 26% 26% 27% 27% 28% 29% 29% 30% 30% 31% 32% 32% 33% 33% 34% 35% 35% 36% 36% 37% 38% 38% 39% 39% 40% 41% 41% 42% 42% 43% 44% 44% 45% 45% 46% 47% 47% 48% 48% 49% 50% 50% 51% 51% 52% 53% 53% 54% 54% 55% 56% 56% 57% 57% 58% 59% 59% 60% 60% 61% 62% 62% 63% 63% 64% 65% 65% 66% 66% 67% 68% 68% 69% 69% 70% 71% 71% 72% 72% 73% 74% 74% 75% 75% 76% 77% 77% 78% 78% 79% 80% 80% 81% 81% 82% 83% 83% 84% 84% 85% 86% 86% 87% 87% 88% 89% 89% 90% 90% 91% 92% 92% 93% 93% 94% 95% 95% 96% 96% 97% 98% 98% 99% 99% 100%\n",
      "\n",
      " quadros reais: [124, 332, 376, 513, 563, 636, 669, 685, 723, 788, 819, 920, 966, 1000, 1123, 1384, 1611, 1667, 1820, 2138, 2223, 2305, 2615, 2889, 2990, 3109, 3659] \n",
      "\n",
      "acurácia: 1.00 \n",
      "\n",
      "quadros preditos corretamente: [108, 324, 372, 492, 540, 612, 660, 684, 708, 780, 804, 900, 948, 996, 1116, 1380, 1596, 1644, 1812, 2124, 2220, 2292, 2604, 2868, 2988, 3108, 3636] \n",
      "\n",
      "quadros preditos incorretamente: [12, 36, 60, 84, 156, 204, 228, 588, 756, 1092, 1236, 1260, 1284, 1308, 1956, 2004, 2028, 2052, 2076, 2100, 2268, 2388, 2412, 2436, 2460, 2484, 2508, 2532, 2556, 2652, 2676, 2700, 2724, 2748, 2772, 2796, 2820, 2844, 2940, 2964, 3060, 3084, 3420, 3540, 3564, 3588, 3612, 3684, 3708, 3732, 3756, 3876, 3900, 3924, 3948, 3972]\n"
     ]
    },
    {
     "data": {
      "text/plain": [
       "1.0"
      ]
     },
     "execution_count": 18,
     "metadata": {},
     "output_type": "execute_result"
    }
   ],
   "source": [
    "roda_experimento_histograma_local_com_grid('titanic-640x360.mp4', 24, cortes_reais['titanic'], \n",
    "                                           soma_das_diferencas, limiar_histograma_local_com_grid)"
   ]
  },
  {
   "cell_type": "markdown",
   "metadata": {
    "colab_type": "text",
    "id": "bkAFSkN01k9C"
   },
   "source": [
    "### Pica pau"
   ]
  },
  {
   "cell_type": "code",
   "execution_count": 19,
   "metadata": {
    "colab": {},
    "colab_type": "code",
    "id": "TgBUm5gf1k9D",
    "scrolled": true
   },
   "outputs": [
    {
     "name": "stdout",
     "output_type": "stream",
     "text": [
      "0% 0% 1% 2% 2% 3% 4% 4% 5% 5% 6% 7% 7% 8% 9% 9% 10% 10% 11% 12% 12% 13% 13% 14% 15% 15% 16% 17% 17% 18% 18% 19% 20% 20% 21% 22% 22% 23% 23% 24% 25% 25% 26% 27% 27% 28% 28% 29% 30% 30% 31% 32% 32% 33% 33% 34% 35% 35% 36% 36% 37% 38% 38% 39% 40% 40% 41% 41% 42% 43% 43% 44% 45% 45% 46% 46% 47% 48% 48% 49% 50% 50% 51% 51% 52% 53% 53% 54% 55% 55% 56% 56% 57% 58% 58% 59% 59% 60% 61% 61% 62% 63% 63% 64% 64% 65% 66% 66% 67% 68% 68% 69% 69% 70% 71% 71% 72% 73% 73% 74% 74% 75% 76% 76% 77% 78% 78% 79% 79% 80% 81% 81% 82% 82% 83% 84% 84% 85% 86% 86% 87% 87% 88% 89% 89% 90% 91% 91% 92% 92% 93% 94% 94% 95% 96% 96% 97% 97% 98% 99% 99% 100%\n",
      "\n",
      " quadros reais: [304, 914, 940, 1294, 1361, 1406, 1504, 1594, 1819, 1901, 2216, 2260, 2341, 2429, 2628, 2704, 2804, 2860, 2929, 3004, 3160, 3530, 3604, 3654, 3892, 4010, 4260, 4366, 4541, 4616, 4729, 4778] \n",
      "\n",
      "acurácia: 1.00 \n",
      "\n",
      "quadros preditos corretamente: [285, 885, 915, 1275, 1335, 1395, 1485, 1575, 1815, 1875, 2205, 2235, 2325, 2415, 2625, 2685, 2775, 2835, 2925, 2985, 3135, 3525, 3585, 3645, 3885, 4005, 4245, 4365, 4515, 4605, 4725, 4755] \n",
      "\n",
      "quadros preditos incorretamente: [45, 105, 435, 465, 555, 585, 735, 765, 1065, 1185, 1215, 1455, 1695, 2025, 2055, 2115, 2145, 2475, 2535, 2895, 3255, 3285, 3345, 3375, 3465, 3495, 3705, 3735, 3765, 3825, 3855, 4065, 4095, 4125, 4155, 4185, 4305, 4335, 4425, 4455, 4485, 4575, 4665, 4695]\n"
     ]
    },
    {
     "data": {
      "text/plain": [
       "1.0"
      ]
     },
     "execution_count": 19,
     "metadata": {},
     "output_type": "execute_result"
    }
   ],
   "source": [
    "roda_experimento_histograma_local_com_grid('pica-pau.mkv', 30, cortes_reais['pica_pau'], \n",
    "                                           soma_das_diferencas, limiar_histograma_local_com_grid)"
   ]
  },
  {
   "cell_type": "markdown",
   "metadata": {
    "colab_type": "text",
    "id": "lJKXOMWimRr6"
   },
   "source": [
    "### Jornal G1"
   ]
  },
  {
   "cell_type": "code",
   "execution_count": 20,
   "metadata": {
    "colab": {},
    "colab_type": "code",
    "id": "SwfNmur_mRr8"
   },
   "outputs": [
    {
     "name": "stdout",
     "output_type": "stream",
     "text": [
      "0% 2% 4% 5% 7% 9% 10% 12% 13% 15% 17% 18% 20% 22% 23% 25% 27% 28% 30% 31% 33% 35% 36% 38% 40% 41% 43% 45% 46% 48% 50% 51% 53% 54% 56% 58% 59% 61% 63% 64% 66% 68% 69% 71% 72% 74% 76% 77% 79% 81% 82% 84% 86% 87% 89% 90% 92% 94% 95% 97% 99% 100%\n",
      "\n",
      " quadros reais: [157, 458, 554, 1423, 1454, 1621, 1701] \n",
      "\n",
      "acurácia: 1.00 \n",
      "\n",
      "quadros preditos corretamente: [135, 435, 525, 1395, 1425, 1605, 1695] \n",
      "\n",
      "quadros preditos incorretamente: [15, 45, 75, 105, 255, 285, 735, 1275, 1305, 1485, 1515, 1545, 1575, 1755]\n"
     ]
    },
    {
     "data": {
      "text/plain": [
       "1.0"
      ]
     },
     "execution_count": 20,
     "metadata": {},
     "output_type": "execute_result"
    }
   ],
   "source": [
    "roda_experimento_histograma_local_com_grid('jornal.mkv', 30, cortes_reais['jornal'], \n",
    "                                           soma_das_diferencas, limiar_histograma_local_com_grid)"
   ]
  },
  {
   "cell_type": "markdown",
   "metadata": {
    "colab_type": "text",
    "id": "4JfklEfCmRr-"
   },
   "source": [
    "### Entrevista do Will Smith"
   ]
  },
  {
   "cell_type": "code",
   "execution_count": 21,
   "metadata": {
    "colab": {},
    "colab_type": "code",
    "id": "VC3q481-mRsA"
   },
   "outputs": [
    {
     "name": "stdout",
     "output_type": "stream",
     "text": [
      "0% 0% 1% 1% 2% 2% 3% 3% 4% 4% 5% 5% 6% 6% 7% 7% 8% 8% 9% 10% 10% 11% 11% 12% 12% 13% 13% 14% 14% 15% 15% 16% 16% 17% 17% 18% 18% 19% 19% 20% 20% 21% 21% 22% 22% 23% 23% 24% 24% 25% 25% 26% 26% 27% 27% 28% 29% 29% 30% 30% 31% 31% 32% 32% 33% 33% 34% 34% 35% 35% 36% 36% 37% 37% 38% 38% 39% 39% 40% 40% 41% 41% 42% 42% 43% 43% 44% 44% 45% 45% 46% 46% 47% 48% 48% 49% 49% 50% 50% 51% 51% 52% 52% 53% 53% 54% 54% 55% 55% 56% 56% 57% 57% 58% 58% 59% 59% 60% 60% 61% 61% 62% 62% 63% 63% 64% 64% 65% 65% 66% 67% 67% 68% 68% 69% 69% 70% 70% 71% 71% 72% 72% 73% 73% 74% 74% 75% 75% 76% 76% 77% 77% 78% 78% 79% 79% 80% 80% 81% 81% 82% 82% 83% 83% 84% 84% 85% 86% 86% 87% 87% 88% 88% 89% 89% 90% 90% 91% 91% 92% 92% 93% 93% 94% 94% 95% 95% 96% 96% 97% 97% 98% 98% 99% 99% 100%\n",
      "\n",
      " quadros reais: [259, 512, 728, 1648, 1901, 2172, 2357, 2402, 2530, 3098, 3136, 3411, 3738, 4595, 4602, 4640, 4665, 4693, 4771, 4799, 4877, 4906, 5013, 5039, 5091, 5130, 5179, 5213, 5303, 5373, 5490, 5502, 5518, 5573] \n",
      "\n",
      "acurácia: 0.94 \n",
      "\n",
      "quadros preditos corretamente: [255, 495, 705, 1635, 1875, 2145, 2355, 2385, 2505, 3075, 3405, 3735, 4575, 4605, 4635, 4665, 4695, 4755, 4785, 4905, 4995, 5025, 5085, 5115, 5175, 5205, 5295, 5355, 5475, 5505, 5535, 5565] \n",
      "\n",
      "quadros preditos incorretamente: [15, 1305, 2475, 3015, 3195, 3705, 4725, 4845, 5445]\n"
     ]
    },
    {
     "data": {
      "text/plain": [
       "0.9411764705882353"
      ]
     },
     "execution_count": 21,
     "metadata": {},
     "output_type": "execute_result"
    }
   ],
   "source": [
    "roda_experimento_histograma_local_com_grid('will_smith_interview360p.mp4', 30, cortes_reais['will_smith'], \n",
    "                                          soma_das_diferencas, limiar_histograma_local_com_grid)"
   ]
  },
  {
   "cell_type": "markdown",
   "metadata": {
    "colab_type": "text",
    "id": "Td16oM4GmRsF"
   },
   "source": [
    "### Trailer do Homem de Ferro"
   ]
  },
  {
   "cell_type": "code",
   "execution_count": 22,
   "metadata": {
    "colab": {},
    "colab_type": "code",
    "id": "uobTB0rFmRsG"
   },
   "outputs": [
    {
     "name": "stdout",
     "output_type": "stream",
     "text": [
      "0% 1% 2% 2% 3% 4% 5% 6% 7% 7% 8% 9% 10% 11% 12% 12% 13% 14% 15% 16% 16% 17% 18% 19% 20% 21% 21% 22% 23% 24% 25% 26% 26% 27% 28% 29% 30% 31% 31% 32% 33% 34% 35% 36% 36% 37% 38% 39% 40% 41% 41% 42% 43% 44% 45% 46% 46% 47% 48% 49% 50% 50% 51% 52% 53% 54% 55% 55% 56% 57% 58% 59% 60% 60% 61% 62% 63% 64% 65% 65% 66% 67% 68% 69% 70% 70% 71% 72% 73% 74% 75% 75% 76% 77% 78% 79% 80% 80% 81% 82% 83% 84% 84% 85% 86% 87% 88% 89% 89% 90% 91% 92% 93% 94% 94% 95% 96% 97% 98% 99% 99% 100%\n",
      "\n",
      " quadros reais: [33, 98, 136, 231, 242, 300, 327, 350, 356, 381, 404, 433, 449, 483, 503, 582, 601, 647, 659, 683, 699, 714, 738, 756, 786, 812, 837, 856, 871, 904, 918, 953, 984, 1043, 1070, 1114, 1131, 1147, 1158, 1185, 1192, 1214, 1229, 1245, 1259, 1268, 1279, 1288, 1296, 1312, 1337, 1360, 1385, 1401, 1419, 1437, 1449, 1458, 1470, 1510, 1523, 1595, 1639, 1666, 1679, 1701, 1724, 1775, 1800, 1833, 1941, 2023, 2117, 2212, 2276, 2315, 2520, 2558, 2686, 2708] \n",
      "\n",
      "acurácia: 0.86 \n",
      "\n",
      "quadros preditos corretamente: [12, 84, 132, 228, 276, 324, 348, 372, 396, 420, 444, 468, 492, 564, 588, 636, 660, 684, 708, 732, 756, 780, 804, 828, 852, 876, 900, 924, 948, 972, 1020, 1068, 1092, 1116, 1140, 1164, 1188, 1212, 1236, 1260, 1284, 1308, 1332, 1356, 1380, 1404, 1428, 1452, 1476, 1500, 1572, 1620, 1644, 1668, 1692, 1716, 1764, 1788, 1812, 1932, 2004, 2100, 2196, 2268, 2292, 2508, 2556, 2676, 2700] \n",
      "\n",
      "quadros preditos incorretamente: [60, 204, 540, 1860, 1884, 1908, 2052, 2076, 2148, 2172, 2244, 2340, 2364, 2412, 2436, 2460, 2484, 2628, 2652, 2748, 2772, 2820]\n"
     ]
    },
    {
     "data": {
      "text/plain": [
       "0.8625"
      ]
     },
     "execution_count": 22,
     "metadata": {},
     "output_type": "execute_result"
    }
   ],
   "source": [
    "roda_experimento_histograma_local_com_grid('homem_de_ferro_3_trailer.mp4', 24, cortes_reais['homem_de_ferro'], \n",
    "                                          soma_das_diferencas, limiar_histograma_local_com_grid)"
   ]
  },
  {
   "cell_type": "markdown",
   "metadata": {
    "colab_type": "text",
    "id": "YYA8z6ULmRsK"
   },
   "source": [
    "### Mario Kart"
   ]
  },
  {
   "cell_type": "code",
   "execution_count": 23,
   "metadata": {
    "colab": {},
    "colab_type": "code",
    "id": "xrj2Dg53mRsL"
   },
   "outputs": [
    {
     "name": "stdout",
     "output_type": "stream",
     "text": [
      "0% 1% 2% 3% 4% 5% 6% 7% 9% 10% 11% 12% 13% 14% 15% 16% 17% 18% 19% 20% 21% 22% 23% 24% 25% 27% 28% 29% 30% 31% 32% 33% 34% 35% 36% 37% 38% 39% 40% 41% 42% 43% 45% 46% 47% 48% 49% 50% 51% 52% 53% 54% 55% 56% 57% 58% 59% 60% 61% 63% 64% 65% 66% 67% 68% 69% 70% 71% 72% 73% 74% 75% 76% 77% 78% 79% 81% 82% 83% 84% 85% 86% 87% 88% 89% 90% 91% 92% 93% 94% 95% 96% 97% 99% 100%\n",
      "nenhum quadro de corte foi predito\n"
     ]
    }
   ],
   "source": [
    "roda_experimento_histograma_local_com_grid('marioKartTour360p.mp4', 30, cortes_reais['mario_kart_tour'], \n",
    "                                          soma_das_diferencas, limiar_histograma_local_com_grid)"
   ]
  },
  {
   "cell_type": "markdown",
   "metadata": {
    "colab_type": "text",
    "id": "I65OnEozmRsO"
   },
   "source": [
    "### Ponto de Federer"
   ]
  },
  {
   "cell_type": "code",
   "execution_count": 24,
   "metadata": {
    "colab": {},
    "colab_type": "code",
    "id": "C4BnM1R3mRsP"
   },
   "outputs": [
    {
     "name": "stdout",
     "output_type": "stream",
     "text": [
      "0% 1% 2% 2% 3% 4% 5% 6% 6% 7% 8% 9% 10% 10% 11% 12% 13% 14% 14% 15% 16% 17% 18% 18% 19% 20% 21% 22% 23% 23% 24% 25% 26% 27% 27% 28% 29% 30% 31% 31% 32% 33% 34% 35% 35% 36% 37% 38% 39% 39% 40% 41% 42% 43% 43% 44% 45% 46% 47% 48% 48% 49% 50% 51% 52% 52% 53% 54% 55% 56% 56% 57% 58% 59% 60% 60% 61% 62% 63% 64% 64% 65% 66% 67% 68% 69% 69% 70% 71% 72% 73% 73% 74% 75% 76% 77% 77% 78% 79% 80% 81% 81% 82% 83% 84% 85% 85% 86% 87% 88% 89% 89% 90% 91% 92% 93% 94% 94% 95% 96% 97% 98% 98% 99% 100%\n",
      "\n",
      " quadros reais: [20, 154, 178, 436, 668, 821, 927, 936, 947, 1039, 1486, 1553, 1765, 1887, 2949] \n",
      "\n",
      "acurácia: 1.00 \n",
      "\n",
      "quadros preditos corretamente: [13, 138, 163, 413, 663, 813, 913, 938, 963, 1038, 1463, 1538, 1763, 1863, 2938] \n",
      "\n",
      "quadros preditos incorretamente: [63, 88, 113, 238, 263, 288, 313, 338, 363, 388, 488, 513, 538, 563, 588, 613, 638, 863, 988, 1013, 1513, 1913, 1938, 2113, 2163, 2213, 2263, 2338, 2363, 2413, 2438, 2463, 2513, 2538, 2563, 2588, 2613, 2638, 2713, 2738, 2813, 2838, 2863]\n"
     ]
    },
    {
     "data": {
      "text/plain": [
       "1.0"
      ]
     },
     "execution_count": 24,
     "metadata": {},
     "output_type": "execute_result"
    }
   ],
   "source": [
    "roda_experimento_histograma_local_com_grid('pontoFederer_360p.mp4', 25, cortes_reais['pontos_federer'], \n",
    "                                          soma_das_diferencas, limiar_histograma_local_com_grid)"
   ]
  },
  {
   "cell_type": "markdown",
   "metadata": {
    "colab_type": "text",
    "id": "qln698DkmRsS"
   },
   "source": [
    "### Coração Valente"
   ]
  },
  {
   "cell_type": "code",
   "execution_count": 25,
   "metadata": {
    "colab": {},
    "colab_type": "code",
    "id": "0Y-AdqSUmRsS"
   },
   "outputs": [
    {
     "name": "stdout",
     "output_type": "stream",
     "text": [
      "0% 0% 1% 1% 2% 2% 3% 3% 4% 4% 5% 5% 6% 6% 7% 7% 8% 8% 9% 9% 10% 10% 11% 11% 12% 12% 12% 13% 13% 14% 14% 15% 15% 16% 16% 17% 17% 18% 18% 19% 19% 20% 20% 21% 21% 22% 22% 23% 23% 24% 24% 25% 25% 26% 26% 27% 27% 28% 28% 29% 29% 30% 30% 31% 31% 32% 32% 33% 33% 34% 34% 35% 35% 36% 36% 36% 37% 37% 38% 38% 39% 39% 40% 40% 41% 41% 42% 42% 43% 43% 44% 44% 45% 45% 46% 46% 47% 47% 48% 48% 49% 49% 50% 50% 51% 51% 52% 52% 53% 53% 54% 54% 55% 55% 56% 56% 57% 57% 58% 58% 59% 59% 60% 60% 61% 61% 61% 62% 62% 63% 63% 64% 64% 65% 65% 66% 66% 67% 67% 68% 68% 69% 69% 70% 70% 71% 71% 72% 72% 73% 73% 74% 74% 75% 75% 76% 76% 77% 77% 78% 78% 79% 79% 80% 80% 81% 81% 82% 82% 83% 83% 84% 84% 85% 85% 85% 86% 86% 87% 87% 88% 88% 89% 89% 90% 90% 91% 91% 92% 92% 93% 93% 94% 94% 95% 95% 96% 96% 97% 97% 98% 98% 99% 99% 100%\n",
      "\n",
      " quadros reais: [23, 37, 108, 197, 338, 459, 528, 562, 587, 643, 708, 742, 787, 820, 982, 1100, 1125, 1237, 1315, 1378, 1436, 1470, 1512, 1570, 1625, 1671, 1733, 1877, 1942, 2073, 2120, 2400, 2428, 2451, 2792, 2914, 3235, 3291, 3311, 3343, 3367, 3451, 3676, 3709, 3743, 3845, 3936, 4081, 4112, 4151, 4317, 4378, 4458, 4506, 4554, 4579, 4618, 4659, 4699, 4750, 4841, 4883, 4940, 4959, 4972, 5016, 5030] \n",
      "\n",
      "acurácia: 0.85 \n",
      "\n",
      "quadros preditos corretamente: [13, 88, 188, 338, 438, 513, 538, 563, 638, 688, 738, 763, 813, 963, 1363, 1413, 1463, 1488, 1563, 1613, 1663, 1713, 1863, 1938, 2063, 2113, 2388, 2438, 2463, 2788, 2913, 3213, 3288, 3338, 3438, 3663, 3688, 3738, 3838, 3913, 4063, 4088, 4138, 4313, 4363, 4438, 4538, 4563, 4613, 4688, 4738, 4838, 4863, 4938, 4963, 4988, 5013] \n",
      "\n",
      "quadros preditos incorretamente: [163, 288, 488, 863, 1763, 1788, 1813, 1838, 1988, 2013, 2038, 2188, 2213, 2238, 2263, 2288, 2313, 2488, 2513, 2538, 2563, 2588, 2613, 2638, 2663, 2763, 2888, 2963, 2988, 3013, 3038, 3063, 3088, 3163, 3188, 3488, 3513, 3538, 3563, 3588, 3613, 3638, 3788, 3813, 3988, 4013, 4038, 4188, 4213, 4238, 4263, 4288, 4413, 4788, 4813, 4913]\n"
     ]
    },
    {
     "data": {
      "text/plain": [
       "0.8507462686567164"
      ]
     },
     "execution_count": 25,
     "metadata": {},
     "output_type": "execute_result"
    }
   ],
   "source": [
    "roda_experimento_histograma_local_com_grid('coracaoValenteDiscurso_360p.mp4', 25, cortes_reais['coracao_valente'], \n",
    "                                          soma_das_diferencas, limiar_histograma_local_com_grid)"
   ]
  },
  {
   "cell_type": "markdown",
   "metadata": {
    "colab_type": "text",
    "id": "qtrElDzxmRsV"
   },
   "source": [
    "### Trailer de Warcraft"
   ]
  },
  {
   "cell_type": "code",
   "execution_count": 26,
   "metadata": {
    "colab": {},
    "colab_type": "code",
    "id": "zfcOJoupmRsW",
    "scrolled": false
   },
   "outputs": [
    {
     "name": "stdout",
     "output_type": "stream",
     "text": [
      "0% 1% 1% 2% 3% 4% 4% 5% 6% 7% 7% 8% 9% 10% 10% 11% 12% 13% 13% 14% 15% 16% 16% 17% 18% 19% 19% 20% 21% 22% 22% 23% 24% 25% 25% 26% 27% 28% 28% 29% 30% 31% 31% 32% 33% 34% 34% 35% 36% 37% 37% 38% 39% 40% 40% 41% 42% 43% 43% 44% 45% 46% 47% 47% 48% 49% 50% 50% 51% 52% 53% 53% 54% 55% 56% 56% 57% 58% 59% 59% 60% 61% 62% 62% 63% 64% 65% 65% 66% 67% 68% 68% 69% 70% 71% 71% 72% 73% 74% 74% 75% 76% 77% 77% 78% 79% 80% 80% 81% 82% 83% 83% 84% 85% 86% 86% 87% 88% 89% 89% 90% 91% 92% 92% 93% 94% 95% 95% 96% 97% 98% 98% 99% 100%\n",
      "\n",
      " quadros reais: [120, 153, 178, 196, 236, 252, 285, 300, 362, 400, 430, 470, 504, 547, 579, 621, 628, 672, 702, 717, 727, 740, 760, 768, 782, 802, 874, 899, 925, 952, 1003, 1039, 1080, 1115, 1147, 1198, 1222, 1262, 1304, 1340, 1353, 1375, 1393, 1408, 1439, 1470, 1494, 1521, 1562, 1580, 1606, 1624, 1636, 1661, 1715, 1758, 1775, 1800, 1829, 1867, 1894, 1959, 1967, 1987, 2004, 2024, 2040, 2084, 2112, 2119, 2136, 2160, 2188, 2219, 2239, 2265, 2273, 2291, 2304, 2326, 2358, 2370, 2382, 2397, 2430, 2448, 2477, 2491, 2508, 2521, 2542, 2556, 2577, 2596, 2625, 2678, 2716, 2730, 2761, 2819, 2860, 2900, 3100, 3114, 3185] \n",
      "\n",
      "acurácia: 0.90 \n",
      "\n",
      "quadros preditos corretamente: [108, 132, 156, 180, 228, 276, 300, 324, 348, 396, 420, 468, 492, 540, 564, 612, 636, 660, 684, 708, 732, 756, 780, 804, 852, 876, 924, 948, 996, 1020, 1068, 1092, 1140, 1188, 1212, 1260, 1284, 1332, 1356, 1404, 1428, 1452, 1476, 1500, 1524, 1548, 1572, 1596, 1620, 1644, 1692, 1740, 1764, 1788, 1860, 1884, 1956, 1980, 2004, 2028, 2052, 2076, 2100, 2124, 2148, 2172, 2196, 2220, 2244, 2268, 2292, 2316, 2340, 2364, 2388, 2412, 2436, 2460, 2484, 2508, 2532, 2556, 2580, 2604, 2628, 2676, 2700, 2724, 2748, 2796, 2844, 2892, 3084, 3108] \n",
      "\n",
      "quadros preditos incorretamente: [828, 1932, 2652, 2940, 2988, 3012, 3060, 3156]\n"
     ]
    },
    {
     "data": {
      "text/plain": [
       "0.8952380952380953"
      ]
     },
     "execution_count": 26,
     "metadata": {},
     "output_type": "execute_result"
    }
   ],
   "source": [
    "roda_experimento_histograma_local_com_grid('warcraftTrailler360p.mp4', 24, cortes_reais['warcraft_trailler'], \n",
    "                                          soma_das_diferencas, limiar_histograma_local_com_grid)"
   ]
  },
  {
   "cell_type": "markdown",
   "metadata": {
    "colab_type": "text",
    "id": "xQXDQe5rmRsa"
   },
   "source": [
    "### Rei Leão"
   ]
  },
  {
   "cell_type": "code",
   "execution_count": 27,
   "metadata": {
    "colab": {},
    "colab_type": "code",
    "id": "jzpVIKTPmRsb"
   },
   "outputs": [
    {
     "name": "stdout",
     "output_type": "stream",
     "text": [
      "0% 0% 1% 2% 2% 3% 4% 4% 5% 6% 6% 7% 7% 8% 9% 9% 10% 11% 11% 12% 13% 13% 14% 15% 15% 16% 16% 17% 18% 18% 19% 20% 20% 21% 22% 22% 23% 23% 24% 25% 25% 26% 27% 27% 28% 29% 29% 30% 30% 31% 32% 32% 33% 34% 34% 35% 36% 36% 37% 37% 38% 39% 39% 40% 41% 41% 42% 43% 43% 44% 45% 45% 46% 46% 47% 48% 48% 49% 50% 50% 51% 52% 52% 53% 53% 54% 55% 55% 56% 57% 57% 58% 59% 59% 60% 60% 61% 62% 62% 63% 64% 64% 65% 66% 66% 67% 68% 68% 69% 69% 70% 71% 71% 72% 73% 73% 74% 75% 75% 76% 76% 77% 78% 78% 79% 80% 80% 81% 82% 82% 83% 83% 84% 85% 85% 86% 87% 87% 88% 89% 89% 90% 90% 91% 92% 92% 93% 94% 94% 95% 96% 96% 97% 98% 98% 99% 99% 100%\n",
      "\n",
      " quadros reais: [30, 679, 801, 976, 1027, 1087, 1251, 1301, 1351, 1392, 1563, 1669, 1779, 1815, 1897, 2088, 2279, 2371, 2508, 2535, 2565, 2632, 2728, 2847, 3122, 3229, 3286, 3413, 3649, 3711, 3997, 4117, 4536, 4689] \n",
      "\n",
      "acurácia: 1.00 \n",
      "\n",
      "quadros preditos corretamente: [15, 675, 795, 975, 1005, 1065, 1245, 1275, 1335, 1365, 1545, 1665, 1755, 1785, 1875, 2085, 2265, 2355, 2505, 2535, 2595, 2625, 2715, 2835, 3105, 3225, 3285, 3405, 3645, 3705, 3975, 4095, 4515, 4665] \n",
      "\n",
      "quadros preditos incorretamente: [105, 255, 285, 315, 345, 375, 405, 735, 765, 855, 945, 1605, 1635, 1725, 1965, 1995, 2145, 2235, 2685, 2775, 2925, 2955, 3045, 3075, 3165, 3195, 3465, 3495, 3765, 3825, 3915, 3945, 4035, 4065, 4245, 4275, 4305, 4635]\n"
     ]
    },
    {
     "data": {
      "text/plain": [
       "1.0"
      ]
     },
     "execution_count": 27,
     "metadata": {},
     "output_type": "execute_result"
    }
   ],
   "source": [
    "roda_experimento_histograma_local_com_grid('reiLeao_360p.mp4', 30, cortes_reais['rei_leao'], \n",
    "                                          soma_das_diferencas, limiar_histograma_local_com_grid)"
   ]
  },
  {
   "cell_type": "markdown",
   "metadata": {
    "colab_type": "text",
    "id": "B8MrqQn7Tkbg"
   },
   "source": [
    "## 3. Histograma local - Particionamento Foreground Background (FB)"
   ]
  },
  {
   "cell_type": "code",
   "execution_count": 41,
   "metadata": {},
   "outputs": [],
   "source": [
    "def aplicar_histograma_local_com_particionamento_FB_em_video(video, fps, quadro_limite=None):\n",
    "    proximo_frame = (fps + 1) // 2\n",
    "    histogramas = [[],[],[],[]]\n",
    "    cap = cv.VideoCapture(video)\n",
    "    total_de_frames = cap.get(7)\n",
    "    \n",
    "    cap.set(1, 1)\n",
    "    ret, frame = cap.read()\n",
    "    offsets = [int(frame.shape[0] * 0.1), int(frame.shape[1] * 0.1)]\n",
    "    progresso = 0\n",
    "    while(proximo_frame < total_de_frames):\n",
    "        cap.set(1, proximo_frame)\n",
    "        ret, frame = cap.read()\n",
    "        if(ret == False):\n",
    "            break\n",
    "        foreground = frame[offsets[0]:, offsets[1]:-offsets[1]]\n",
    "        histogramas[0].append((proximo_frame, histograma_global(foreground)))\n",
    "        \n",
    "        topo_do_background = frame[:offsets[0], offsets[1]:-offsets[1]]\n",
    "        lado_esquerdo_do_background = frame[:, :offsets[1]]\n",
    "        lado_direito_do_background =  frame[:, -offsets[1]:]\n",
    "        histogramas[1].append((proximo_frame, histograma_global(topo_do_background)))\n",
    "        histogramas[2].append((proximo_frame, histograma_global(lado_esquerdo_do_background)))\n",
    "        histogramas[3].append((proximo_frame, histograma_global(lado_direito_do_background)))\n",
    "        \n",
    "        progresso = int(proximo_frame / total_de_frames * 100)\n",
    "        print(f'{progresso}%', end=' ')\n",
    "        proximo_frame += fps\n",
    "        if(quadro_limite != None):\n",
    "            if(proximo_frame >= quadro_limite):\n",
    "                cap.release()\n",
    "                cv.destroyAllWindows()\n",
    "                print(\"parou no quadro limite\")\n",
    "                return histogramas\n",
    "    cap.release()\n",
    "    cv.destroyAllWindows()\n",
    "    print('100%')\n",
    "    return histogramas\n",
    "\n",
    "def get_quadros_de_corte_do_histograma_local_com_particionamento_FB(histogramas, distancia, \n",
    "                                                                    limiar_foreground, limiar_background):\n",
    "    quadros_de_corte = []\n",
    "    limiares = [limiar_foreground, limiar_background]\n",
    "    for k in range(len(histogramas[0]) - 1):\n",
    "        if(existe_corte_entre_bgr_histogramas(histogramas[0][k][1], histogramas[0][k + 1][1], distancia, limiar_foreground)):\n",
    "            quadros_de_corte.append((histogramas[0][k][0]))\n",
    "        else:\n",
    "            distancia_background = 0.0\n",
    "            for i in range(1, 4):\n",
    "                bgr_histograma1 = histogramas[i][k][1]\n",
    "                bgr_histograma2 = histogramas[i][k+1][1]\n",
    "                for banda in range(3):\n",
    "                    distancia_background += distancia(bgr_histograma1[banda], bgr_histograma2[banda])\n",
    "            if(distancia_background > limiar_background):\n",
    "                quadros_de_corte.append((histogramas[0][k][0]))\n",
    "    return quadros_de_corte\n",
    "\n",
    "def roda_experimento_histograma_local_com_particionamento_FB(video, fps, quadros_de_corte_reais, distancia, \n",
    "                                                             limiar_foreground, limiar_background, quadro_limite=None):\n",
    "    histogramas = aplicar_histograma_local_com_particionamento_FB_em_video(video, fps, quadro_limite=quadro_limite)\n",
    "    quadros_de_corte_preditos = get_quadros_de_corte_do_histograma_local_com_particionamento_FB(histogramas, distancia, limiar_foreground, limiar_background)\n",
    "    return mostrar_resultados_da_deteccao_de_cenas(quadros_de_corte_reais, quadros_de_corte_preditos, fps)"
   ]
  },
  {
   "cell_type": "markdown",
   "metadata": {},
   "source": [
    "## Detecção de Cenas"
   ]
  },
  {
   "cell_type": "code",
   "execution_count": 42,
   "metadata": {},
   "outputs": [],
   "source": [
    "limiar_foreground = 180000\n",
    "limiar_background = 100000"
   ]
  },
  {
   "cell_type": "markdown",
   "metadata": {
    "colab_type": "text",
    "id": "wDU3ZUPP1k83"
   },
   "source": [
    "### Titanic"
   ]
  },
  {
   "cell_type": "code",
   "execution_count": 43,
   "metadata": {
    "colab": {
     "base_uri": "https://localhost:8080/",
     "height": 352
    },
    "colab_type": "code",
    "id": "HWNBQZiO1k85",
    "outputId": "d90194cb-722b-4414-f8bd-2a41e4001d6c",
    "scrolled": true
   },
   "outputs": [
    {
     "name": "stdout",
     "output_type": "stream",
     "text": [
      "0% 0% 1% 2% 2% 3% 3% 4% 5% 5% 6% 6% 7% 8% 8% 9% 9% 10% 11% 11% 12% 12% 13% 14% 14% 15% 15% 16% 17% 17% 18% 18% 19% 20% 20% 21% 21% 22% 23% 23% 24% 24% 25% 26% 26% 27% 27% 28% 29% 29% 30% 30% 31% 32% 32% 33% 33% 34% 35% 35% 36% 36% 37% 38% 38% 39% 39% 40% 41% 41% 42% 42% 43% 44% 44% 45% 45% 46% 47% 47% 48% 48% 49% 50% 50% 51% 51% 52% 53% 53% 54% 54% 55% 56% 56% 57% 57% 58% 59% 59% 60% 60% 61% 62% 62% 63% 63% 64% 65% 65% 66% 66% 67% 68% 68% 69% 69% 70% 71% 71% 72% 72% 73% 74% 74% 75% 75% 76% 77% 77% 78% 78% 79% 80% 80% 81% 81% 82% 83% 83% 84% 84% 85% 86% 86% 87% 87% 88% 89% 89% 90% 90% 91% 92% 92% 93% 93% 94% 95% 95% 96% 96% 97% 98% 98% 99% 99% 100%\n",
      "\n",
      " quadros reais: [124, 332, 376, 513, 563, 636, 669, 685, 723, 788, 819, 920, 966, 1000, 1123, 1384, 1611, 1667, 1820, 2138, 2223, 2305, 2615, 2889, 2990, 3109, 3659] \n",
      "\n",
      "acurácia: 1.00 \n",
      "\n",
      "quadros preditos corretamente: [108, 324, 372, 492, 540, 612, 660, 684, 708, 780, 804, 900, 948, 996, 1116, 1380, 1596, 1644, 1812, 2124, 2220, 2292, 2604, 2868, 2988, 3108, 3636] \n",
      "\n",
      "quadros preditos incorretamente: [2460, 2676, 3924, 3948]\n"
     ]
    },
    {
     "data": {
      "text/plain": [
       "1.0"
      ]
     },
     "execution_count": 43,
     "metadata": {},
     "output_type": "execute_result"
    }
   ],
   "source": [
    "roda_experimento_histograma_local_com_particionamento_FB('titanic-640x360.mp4', 24, cortes_reais['titanic'], \n",
    "                                           soma_das_diferencas, limiar_foreground, limiar_background)"
   ]
  },
  {
   "cell_type": "markdown",
   "metadata": {
    "colab_type": "text",
    "id": "bkAFSkN01k9C"
   },
   "source": [
    "### Pica pau"
   ]
  },
  {
   "cell_type": "code",
   "execution_count": 45,
   "metadata": {
    "colab": {},
    "colab_type": "code",
    "id": "TgBUm5gf1k9D",
    "scrolled": true
   },
   "outputs": [
    {
     "name": "stdout",
     "output_type": "stream",
     "text": [
      "0% 0% 1% 2% 2% 3% 4% 4% 5% 5% 6% 7% 7% 8% 9% 9% 10% 10% 11% 12% 12% 13% 13% 14% 15% 15% 16% 17% 17% 18% 18% 19% 20% 20% 21% 22% 22% 23% 23% 24% 25% 25% 26% 27% 27% 28% 28% 29% 30% 30% 31% 32% 32% 33% 33% 34% 35% 35% 36% 36% 37% 38% 38% 39% 40% 40% 41% 41% 42% 43% 43% 44% 45% 45% 46% 46% 47% 48% 48% 49% 50% 50% 51% 51% 52% 53% 53% 54% 55% 55% 56% 56% 57% 58% 58% 59% 59% 60% 61% 61% 62% 63% 63% 64% 64% 65% 66% 66% 67% 68% 68% 69% 69% 70% 71% 71% 72% 73% 73% 74% 74% 75% 76% 76% 77% 78% 78% 79% 79% 80% 81% 81% 82% 82% 83% 84% 84% 85% 86% 86% 87% 87% 88% 89% 89% 90% 91% 91% 92% 92% 93% 94% 94% 95% 96% 96% 97% 97% 98% 99% 99% 100%\n",
      "\n",
      " quadros reais: [304, 914, 940, 1294, 1361, 1406, 1504, 1594, 1819, 1901, 2216, 2260, 2341, 2429, 2628, 2704, 2804, 2860, 2929, 3004, 3160, 3530, 3604, 3654, 3892, 4010, 4260, 4366, 4541, 4616, 4729, 4778] \n",
      "\n",
      "acurácia: 1.00 \n",
      "\n",
      "quadros preditos corretamente: [285, 885, 915, 1275, 1335, 1395, 1485, 1575, 1815, 1875, 2205, 2235, 2325, 2415, 2625, 2685, 2775, 2835, 2925, 2985, 3135, 3525, 3585, 3645, 3885, 4005, 4245, 4365, 4515, 4605, 4725, 4755] \n",
      "\n",
      "quadros preditos incorretamente: [435, 465, 555, 585, 735, 765, 1065, 1695, 2025, 2475, 3465, 3495, 4065, 4095, 4155, 4185, 4305, 4335, 4665, 4695]\n"
     ]
    },
    {
     "data": {
      "text/plain": [
       "1.0"
      ]
     },
     "execution_count": 45,
     "metadata": {},
     "output_type": "execute_result"
    }
   ],
   "source": [
    "roda_experimento_histograma_local_com_particionamento_FB('pica-pau.mkv', 30, cortes_reais['pica_pau'], \n",
    "                                           soma_das_diferencas, limiar_foreground, limiar_background)"
   ]
  },
  {
   "cell_type": "markdown",
   "metadata": {
    "colab_type": "text",
    "id": "lJKXOMWimRr6"
   },
   "source": [
    "### Jornal G1"
   ]
  },
  {
   "cell_type": "code",
   "execution_count": 46,
   "metadata": {
    "colab": {},
    "colab_type": "code",
    "id": "SwfNmur_mRr8"
   },
   "outputs": [
    {
     "name": "stdout",
     "output_type": "stream",
     "text": [
      "0% 2% 4% 5% 7% 9% 10% 12% 13% 15% 17% 18% 20% 22% 23% 25% 27% 28% 30% 31% 33% 35% 36% 38% 40% 41% 43% 45% 46% 48% 50% 51% 53% 54% 56% 58% 59% 61% 63% 64% 66% 68% 69% 71% 72% 74% 76% 77% 79% 81% 82% 84% 86% 87% 89% 90% 92% 94% 95% 97% 99% 100%\n",
      "\n",
      " quadros reais: [157, 458, 554, 1423, 1454, 1621, 1701] \n",
      "\n",
      "acurácia: 1.00 \n",
      "\n",
      "quadros preditos corretamente: [135, 435, 525, 1395, 1425, 1605, 1695] \n",
      "\n",
      "quadros preditos incorretamente: [15, 45, 75, 105, 255, 285, 1275, 1305, 1485, 1515, 1545, 1575, 1755]\n"
     ]
    },
    {
     "data": {
      "text/plain": [
       "1.0"
      ]
     },
     "execution_count": 46,
     "metadata": {},
     "output_type": "execute_result"
    }
   ],
   "source": [
    "roda_experimento_histograma_local_com_particionamento_FB('jornal.mkv', 30, cortes_reais['jornal'], \n",
    "                                           soma_das_diferencas, limiar_foreground, limiar_background)"
   ]
  },
  {
   "cell_type": "markdown",
   "metadata": {
    "colab_type": "text",
    "id": "4JfklEfCmRr-"
   },
   "source": [
    "### Entrevista do Will Smith"
   ]
  },
  {
   "cell_type": "code",
   "execution_count": 44,
   "metadata": {
    "colab": {},
    "colab_type": "code",
    "id": "VC3q481-mRsA"
   },
   "outputs": [
    {
     "name": "stdout",
     "output_type": "stream",
     "text": [
      "0% 0% 1% 1% 2% 2% 3% 3% 4% 4% 5% 5% 6% 6% 7% 7% 8% 8% 9% 10% 10% 11% 11% 12% 12% 13% 13% 14% 14% 15% 15% 16% 16% 17% 17% 18% 18% 19% 19% 20% 20% 21% 21% 22% 22% 23% 23% 24% 24% 25% 25% 26% 26% 27% 27% 28% 29% 29% 30% 30% 31% 31% 32% 32% 33% 33% 34% 34% 35% 35% 36% 36% 37% 37% 38% 38% 39% 39% 40% 40% 41% 41% 42% 42% 43% 43% 44% 44% 45% 45% 46% 46% 47% 48% 48% 49% 49% 50% 50% 51% 51% 52% 52% 53% 53% 54% 54% 55% 55% 56% 56% 57% 57% 58% 58% 59% 59% 60% 60% 61% 61% 62% 62% 63% 63% 64% 64% 65% 65% 66% 67% 67% 68% 68% 69% 69% 70% 70% 71% 71% 72% 72% 73% 73% 74% 74% 75% 75% 76% 76% 77% 77% 78% 78% 79% 79% 80% 80% 81% 81% 82% 82% 83% 83% 84% 84% 85% 86% 86% 87% 87% 88% 88% 89% 89% 90% 90% 91% 91% 92% 92% 93% 93% 94% 94% 95% 95% 96% 96% 97% 97% 98% 98% 99% 99% 100%\n",
      "\n",
      " quadros reais: [259, 512, 728, 1648, 1901, 2172, 2357, 2402, 2530, 3098, 3136, 3411, 3738, 4595, 4602, 4640, 4665, 4693, 4771, 4799, 4877, 4906, 5013, 5039, 5091, 5130, 5179, 5213, 5303, 5373, 5490, 5502, 5518, 5573] \n",
      "\n",
      "acurácia: 0.76 \n",
      "\n",
      "quadros preditos corretamente: [255, 495, 705, 1635, 1875, 2145, 2355, 2385, 2505, 3075, 3165, 3405, 3735, 4575, 4635, 4665, 5025, 5085, 5115, 5175, 5205, 5295, 5475, 5505, 5535, 5565] \n",
      "\n",
      "quadros preditos incorretamente: [3015, 3195, 4845]\n"
     ]
    },
    {
     "data": {
      "text/plain": [
       "0.7647058823529411"
      ]
     },
     "execution_count": 44,
     "metadata": {},
     "output_type": "execute_result"
    }
   ],
   "source": [
    "roda_experimento_histograma_local_com_particionamento_FB('will_smith_interview360p.mp4', 30, cortes_reais['will_smith'], \n",
    "                                          soma_das_diferencas, limiar_foreground, limiar_background)"
   ]
  },
  {
   "cell_type": "markdown",
   "metadata": {
    "colab_type": "text",
    "id": "Td16oM4GmRsF"
   },
   "source": [
    "### Trailer do Homem de Ferro"
   ]
  },
  {
   "cell_type": "code",
   "execution_count": 47,
   "metadata": {
    "colab": {},
    "colab_type": "code",
    "id": "uobTB0rFmRsG"
   },
   "outputs": [
    {
     "name": "stdout",
     "output_type": "stream",
     "text": [
      "0% 1% 2% 2% 3% 4% 5% 6% 7% 7% 8% 9% 10% 11% 12% 12% 13% 14% 15% 16% 16% 17% 18% 19% 20% 21% 21% 22% 23% 24% 25% 26% 26% 27% 28% 29% 30% 31% 31% 32% 33% 34% 35% 36% 36% 37% 38% 39% 40% 41% 41% 42% 43% 44% 45% 46% 46% 47% 48% 49% 50% 50% 51% 52% 53% 54% 55% 55% 56% 57% 58% 59% 60% 60% 61% 62% 63% 64% 65% 65% 66% 67% 68% 69% 70% 70% 71% 72% 73% 74% 75% 75% 76% 77% 78% 79% 80% 80% 81% 82% 83% 84% 84% 85% 86% 87% 88% 89% 89% 90% 91% 92% 93% 94% 94% 95% 96% 97% 98% 99% 99% 100%\n",
      "\n",
      " quadros reais: [33, 98, 136, 231, 242, 300, 327, 350, 356, 381, 404, 433, 449, 483, 503, 582, 601, 647, 659, 683, 699, 714, 738, 756, 786, 812, 837, 856, 871, 904, 918, 953, 984, 1043, 1070, 1114, 1131, 1147, 1158, 1185, 1192, 1214, 1229, 1245, 1259, 1268, 1279, 1288, 1296, 1312, 1337, 1360, 1385, 1401, 1419, 1437, 1449, 1458, 1470, 1510, 1523, 1595, 1639, 1666, 1679, 1701, 1724, 1775, 1800, 1833, 1941, 2023, 2117, 2212, 2276, 2315, 2520, 2558, 2686, 2708] \n",
      "\n",
      "acurácia: 0.88 \n",
      "\n",
      "quadros preditos corretamente: [12, 84, 132, 228, 276, 324, 348, 372, 396, 420, 444, 468, 492, 564, 588, 636, 660, 684, 708, 732, 756, 780, 804, 828, 852, 876, 900, 924, 948, 972, 1020, 1068, 1092, 1116, 1140, 1164, 1188, 1212, 1236, 1260, 1284, 1308, 1332, 1356, 1380, 1404, 1428, 1452, 1476, 1500, 1524, 1572, 1620, 1644, 1668, 1692, 1716, 1764, 1788, 1812, 1932, 2004, 2100, 2196, 2268, 2292, 2508, 2556, 2676, 2700] \n",
      "\n",
      "quadros preditos incorretamente: [60, 204, 540, 1548, 1860, 1884, 1908, 2052, 2076, 2148, 2172, 2244, 2340, 2364, 2412, 2484, 2628, 2652, 2748, 2772, 2796, 2820]\n"
     ]
    },
    {
     "data": {
      "text/plain": [
       "0.875"
      ]
     },
     "execution_count": 47,
     "metadata": {},
     "output_type": "execute_result"
    }
   ],
   "source": [
    "roda_experimento_histograma_local_com_particionamento_FB('homem_de_ferro_3_trailer.mp4', 24, cortes_reais['homem_de_ferro'], \n",
    "                                          soma_das_diferencas, limiar_foreground, limiar_background)"
   ]
  },
  {
   "cell_type": "markdown",
   "metadata": {
    "colab_type": "text",
    "id": "YYA8z6ULmRsK"
   },
   "source": [
    "### Mario Kart"
   ]
  },
  {
   "cell_type": "code",
   "execution_count": 48,
   "metadata": {
    "colab": {},
    "colab_type": "code",
    "id": "xrj2Dg53mRsL"
   },
   "outputs": [
    {
     "name": "stdout",
     "output_type": "stream",
     "text": [
      "0% 1% 2% 3% 4% 5% 6% 7% 9% 10% 11% 12% 13% 14% 15% 16% 17% 18% 19% 20% 21% 22% 23% 24% 25% 27% 28% 29% 30% 31% 32% 33% 34% 35% 36% 37% 38% 39% 40% 41% 42% 43% 45% 46% 47% 48% 49% 50% 51% 52% 53% 54% 55% 56% 57% 58% 59% 60% 61% 63% 64% 65% 66% 67% 68% 69% 70% 71% 72% 73% 74% 75% 76% 77% 78% 79% 81% 82% 83% 84% 85% 86% 87% 88% 89% 90% 91% 92% 93% 94% 95% 96% 97% 99% 100%\n",
      "\n",
      " quadros reais: [31, 213, 262, 308, 361, 410, 459, 508, 559, 606, 708, 804, 901, 1001, 1101, 1198, 1289, 1394, 1445, 1496, 1545, 1592, 1693, 1735, 1772, 1827, 1854, 1939, 1988, 2058, 2081, 2113, 2145, 2170, 2199, 2221, 2245, 2276, 2295, 2316, 2333, 2457, 2732, 2741] \n",
      "\n",
      "acurácia: 0.18 \n",
      "\n",
      "quadros preditos corretamente: [15, 1665, 1725, 1815, 2055, 2085, 2445, 2715] \n",
      "\n",
      "quadros preditos incorretamente: []\n"
     ]
    },
    {
     "data": {
      "text/plain": [
       "0.18181818181818182"
      ]
     },
     "execution_count": 48,
     "metadata": {},
     "output_type": "execute_result"
    }
   ],
   "source": [
    "roda_experimento_histograma_local_com_particionamento_FB('marioKartTour360p.mp4', 30, cortes_reais['mario_kart_tour'], \n",
    "                                          soma_das_diferencas, limiar_foreground, limiar_background)"
   ]
  },
  {
   "cell_type": "markdown",
   "metadata": {
    "colab_type": "text",
    "id": "I65OnEozmRsO"
   },
   "source": [
    "### Ponto de Federer"
   ]
  },
  {
   "cell_type": "code",
   "execution_count": 49,
   "metadata": {
    "colab": {},
    "colab_type": "code",
    "id": "C4BnM1R3mRsP"
   },
   "outputs": [
    {
     "name": "stdout",
     "output_type": "stream",
     "text": [
      "0% 1% 2% 2% 3% 4% 5% 6% 6% 7% 8% 9% 10% 10% 11% 12% 13% 14% 14% 15% 16% 17% 18% 18% 19% 20% 21% 22% 23% 23% 24% 25% 26% 27% 27% 28% 29% 30% 31% 31% 32% 33% 34% 35% 35% 36% 37% 38% 39% 39% 40% 41% 42% 43% 43% 44% 45% 46% 47% 48% 48% 49% 50% 51% 52% 52% 53% 54% 55% 56% 56% 57% 58% 59% 60% 60% 61% 62% 63% 64% 64% 65% 66% 67% 68% 69% 69% 70% 71% 72% 73% 73% 74% 75% 76% 77% 77% 78% 79% 80% 81% 81% 82% 83% 84% 85% 85% 86% 87% 88% 89% 89% 90% 91% 92% 93% 94% 94% 95% 96% 97% 98% 98% 99% 100%\n",
      "\n",
      " quadros reais: [20, 154, 178, 436, 668, 821, 927, 936, 947, 1039, 1486, 1553, 1765, 1887, 2949] \n",
      "\n",
      "acurácia: 0.93 \n",
      "\n",
      "quadros preditos corretamente: [13, 138, 163, 413, 663, 813, 913, 963, 1038, 1463, 1538, 1763, 1863, 2938] \n",
      "\n",
      "quadros preditos incorretamente: [63, 113, 338, 363, 388, 538, 563, 588, 638, 1013, 1513, 1913, 2163, 2363, 2838]\n"
     ]
    },
    {
     "data": {
      "text/plain": [
       "0.9333333333333333"
      ]
     },
     "execution_count": 49,
     "metadata": {},
     "output_type": "execute_result"
    }
   ],
   "source": [
    "roda_experimento_histograma_local_com_particionamento_FB('pontoFederer_360p.mp4', 25, cortes_reais['pontos_federer'], \n",
    "                                          soma_das_diferencas, limiar_foreground, limiar_background)"
   ]
  },
  {
   "cell_type": "markdown",
   "metadata": {
    "colab_type": "text",
    "id": "qln698DkmRsS"
   },
   "source": [
    "### Coração Valente"
   ]
  },
  {
   "cell_type": "code",
   "execution_count": 50,
   "metadata": {
    "colab": {},
    "colab_type": "code",
    "id": "0Y-AdqSUmRsS"
   },
   "outputs": [
    {
     "name": "stdout",
     "output_type": "stream",
     "text": [
      "0% 0% 1% 1% 2% 2% 3% 3% 4% 4% 5% 5% 6% 6% 7% 7% 8% 8% 9% 9% 10% 10% 11% 11% 12% 12% 12% 13% 13% 14% 14% 15% 15% 16% 16% 17% 17% 18% 18% 19% 19% 20% 20% 21% 21% 22% 22% 23% 23% 24% 24% 25% 25% 26% 26% 27% 27% 28% 28% 29% 29% 30% 30% 31% 31% 32% 32% 33% 33% 34% 34% 35% 35% 36% 36% 36% 37% 37% 38% 38% 39% 39% 40% 40% 41% 41% 42% 42% 43% 43% 44% 44% 45% 45% 46% 46% 47% 47% 48% 48% 49% 49% 50% 50% 51% 51% 52% 52% 53% 53% 54% 54% 55% 55% 56% 56% 57% 57% 58% 58% 59% 59% 60% 60% 61% 61% 61% 62% 62% 63% 63% 64% 64% 65% 65% 66% 66% 67% 67% 68% 68% 69% 69% 70% 70% 71% 71% 72% 72% 73% 73% 74% 74% 75% 75% 76% 76% 77% 77% 78% 78% 79% 79% 80% 80% 81% 81% 82% 82% 83% 83% 84% 84% 85% 85% 85% 86% 86% 87% 87% 88% 88% 89% 89% 90% 90% 91% 91% 92% 92% 93% 93% 94% 94% 95% 95% 96% 96% 97% 97% 98% 98% 99% 99% 100%\n",
      "\n",
      " quadros reais: [23, 37, 108, 197, 338, 459, 528, 562, 587, 643, 708, 742, 787, 820, 982, 1100, 1125, 1237, 1315, 1378, 1436, 1470, 1512, 1570, 1625, 1671, 1733, 1877, 1942, 2073, 2120, 2400, 2428, 2451, 2792, 2914, 3235, 3291, 3311, 3343, 3367, 3451, 3676, 3709, 3743, 3845, 3936, 4081, 4112, 4151, 4317, 4378, 4458, 4506, 4554, 4579, 4618, 4659, 4699, 4750, 4841, 4883, 4940, 4959, 4972, 5016, 5030] \n",
      "\n",
      "acurácia: 0.61 \n",
      "\n",
      "quadros preditos corretamente: [13, 88, 188, 338, 438, 513, 638, 738, 763, 813, 1363, 1413, 1463, 1488, 1613, 1663, 1713, 1863, 1938, 2063, 2113, 2388, 2438, 2788, 3213, 3438, 3663, 3738, 3838, 3913, 4063, 4088, 4138, 4313, 4363, 4438, 4563, 4738, 4838, 4938, 5013] \n",
      "\n",
      "quadros preditos incorretamente: [1988, 2213, 2263, 2313, 2513, 2538, 2613, 2638, 2663, 2888, 3488, 3638, 3813, 4038, 4213, 4238, 4263, 4288]\n"
     ]
    },
    {
     "data": {
      "text/plain": [
       "0.6119402985074627"
      ]
     },
     "execution_count": 50,
     "metadata": {},
     "output_type": "execute_result"
    }
   ],
   "source": [
    "roda_experimento_histograma_local_com_particionamento_FB('coracaoValenteDiscurso_360p.mp4', 25, cortes_reais['coracao_valente'], \n",
    "                                          soma_das_diferencas, limiar_foreground, limiar_background)"
   ]
  },
  {
   "cell_type": "markdown",
   "metadata": {
    "colab_type": "text",
    "id": "qtrElDzxmRsV"
   },
   "source": [
    "### Trailer de Warcraft"
   ]
  },
  {
   "cell_type": "code",
   "execution_count": 51,
   "metadata": {
    "colab": {},
    "colab_type": "code",
    "id": "zfcOJoupmRsW",
    "scrolled": false
   },
   "outputs": [
    {
     "name": "stdout",
     "output_type": "stream",
     "text": [
      "0% 1% 1% 2% 3% 4% 4% 5% 6% 7% 7% 8% 9% 10% 10% 11% 12% 13% 13% 14% 15% 16% 16% 17% 18% 19% 19% 20% 21% 22% 22% 23% 24% 25% 25% 26% 27% 28% 28% 29% 30% 31% 31% 32% 33% 34% 34% 35% 36% 37% 37% 38% 39% 40% 40% 41% 42% 43% 43% 44% 45% 46% 47% 47% 48% 49% 50% 50% 51% 52% 53% 53% 54% 55% 56% 56% 57% 58% 59% 59% 60% 61% 62% 62% 63% 64% 65% 65% 66% 67% 68% 68% 69% 70% 71% 71% 72% 73% 74% 74% 75% 76% 77% 77% 78% 79% 80% 80% 81% 82% 83% 83% 84% 85% 86% 86% 87% 88% 89% 89% 90% 91% 92% 92% 93% 94% 95% 95% 96% 97% 98% 98% 99% 100%\n",
      "\n",
      " quadros reais: [120, 153, 178, 196, 236, 252, 285, 300, 362, 400, 430, 470, 504, 547, 579, 621, 628, 672, 702, 717, 727, 740, 760, 768, 782, 802, 874, 899, 925, 952, 1003, 1039, 1080, 1115, 1147, 1198, 1222, 1262, 1304, 1340, 1353, 1375, 1393, 1408, 1439, 1470, 1494, 1521, 1562, 1580, 1606, 1624, 1636, 1661, 1715, 1758, 1775, 1800, 1829, 1867, 1894, 1959, 1967, 1987, 2004, 2024, 2040, 2084, 2112, 2119, 2136, 2160, 2188, 2219, 2239, 2265, 2273, 2291, 2304, 2326, 2358, 2370, 2382, 2397, 2430, 2448, 2477, 2491, 2508, 2521, 2542, 2556, 2577, 2596, 2625, 2678, 2716, 2730, 2761, 2819, 2860, 2900, 3100, 3114, 3185] \n",
      "\n",
      "acurácia: 0.72 \n",
      "\n",
      "quadros preditos corretamente: [108, 132, 156, 180, 228, 276, 300, 324, 348, 396, 420, 468, 492, 540, 564, 612, 636, 660, 732, 756, 780, 852, 876, 924, 948, 996, 1020, 1068, 1092, 1164, 1188, 1332, 1404, 1428, 1452, 1500, 1524, 1548, 1572, 1596, 1620, 1644, 1692, 1764, 1788, 1860, 1884, 2004, 2076, 2100, 2124, 2148, 2172, 2196, 2244, 2268, 2292, 2316, 2340, 2412, 2436, 2508, 2532, 2556, 2580, 2604, 2628, 2676, 2700, 2724, 2748, 2820, 2844, 2892, 3084, 3108] \n",
      "\n",
      "quadros preditos incorretamente: [1932, 2652, 3060, 3156]\n"
     ]
    },
    {
     "data": {
      "text/plain": [
       "0.7238095238095238"
      ]
     },
     "execution_count": 51,
     "metadata": {},
     "output_type": "execute_result"
    }
   ],
   "source": [
    "roda_experimento_histograma_local_com_particionamento_FB('warcraftTrailler360p.mp4', 24, cortes_reais['warcraft_trailler'], \n",
    "                                          soma_das_diferencas, limiar_foreground, limiar_background)"
   ]
  },
  {
   "cell_type": "markdown",
   "metadata": {
    "colab_type": "text",
    "id": "xQXDQe5rmRsa"
   },
   "source": [
    "### Rei Leão"
   ]
  },
  {
   "cell_type": "code",
   "execution_count": 52,
   "metadata": {
    "colab": {},
    "colab_type": "code",
    "id": "jzpVIKTPmRsb"
   },
   "outputs": [
    {
     "name": "stdout",
     "output_type": "stream",
     "text": [
      "0% 0% 1% 2% 2% 3% 4% 4% 5% 6% 6% 7% 7% 8% 9% 9% 10% 11% 11% 12% 13% 13% 14% 15% 15% 16% 16% 17% 18% 18% 19% 20% 20% 21% 22% 22% 23% 23% 24% 25% 25% 26% 27% 27% 28% 29% 29% 30% 30% 31% 32% 32% 33% 34% 34% 35% 36% 36% 37% 37% 38% 39% 39% 40% 41% 41% 42% 43% 43% 44% 45% 45% 46% 46% 47% 48% 48% 49% 50% 50% 51% 52% 52% 53% 53% 54% 55% 55% 56% 57% 57% 58% 59% 59% 60% 60% 61% 62% 62% 63% 64% 64% 65% 66% 66% 67% 68% 68% 69% 69% 70% 71% 71% 72% 73% 73% 74% 75% 75% 76% 76% 77% 78% 78% 79% 80% 80% 81% 82% 82% 83% 83% 84% 85% 85% 86% 87% 87% 88% 89% 89% 90% 90% 91% 92% 92% 93% 94% 94% 95% 96% 96% 97% 98% 98% 99% 99% 100%\n",
      "\n",
      " quadros reais: [30, 679, 801, 976, 1027, 1087, 1251, 1301, 1351, 1392, 1563, 1669, 1779, 1815, 1897, 2088, 2279, 2371, 2508, 2535, 2565, 2632, 2728, 2847, 3122, 3229, 3286, 3413, 3649, 3711, 3997, 4117, 4536, 4689] \n",
      "\n",
      "acurácia: 0.94 \n",
      "\n",
      "quadros preditos corretamente: [15, 675, 795, 975, 1005, 1065, 1245, 1275, 1335, 1365, 1545, 1665, 1755, 1785, 1875, 2085, 2265, 2355, 2505, 2535, 2625, 2715, 2835, 3105, 3225, 3405, 3645, 3705, 3975, 4095, 4515, 4665] \n",
      "\n",
      "quadros preditos incorretamente: [105, 255, 345, 375, 405, 1605, 1635, 1725, 1965, 1995, 2775, 2955, 3045, 3075, 3195, 3465, 3825, 3945, 4245, 4275, 4635]\n"
     ]
    },
    {
     "data": {
      "text/plain": [
       "0.9411764705882353"
      ]
     },
     "execution_count": 52,
     "metadata": {},
     "output_type": "execute_result"
    }
   ],
   "source": [
    "roda_experimento_histograma_local_com_particionamento_FB('reiLeao_360p.mp4', 30, cortes_reais['rei_leao'], \n",
    "                                          soma_das_diferencas, limiar_foreground, limiar_background)"
   ]
  },
  {
   "cell_type": "markdown",
   "metadata": {
    "colab_type": "text",
    "id": "KqbLf34EiLfX"
   },
   "source": [
    "## 4. BIC"
   ]
  },
  {
   "cell_type": "markdown",
   "metadata": {
    "colab_type": "text",
    "id": "xzIbEgnBlIL8"
   },
   "source": [
    "### BIC paralelizado"
   ]
  },
  {
   "cell_type": "code",
   "execution_count": 29,
   "metadata": {
    "colab": {},
    "colab_type": "code",
    "id": "fiq6NGhci-SM"
   },
   "outputs": [],
   "source": [
    "def detectar_tipo_de_pixel(janela):\n",
    "    offsets = [[1,0], [-1,0], [0, 1], [0, -1]]\n",
    "    for offset in offsets:\n",
    "        if(abs(janela[1][1][0] - janela[1 + offset[0]][1 + offset[1]][0]) > bic_limiar \n",
    "           or abs(janela[1][1][1] - janela[1 + offset[0]][1 + offset[1]][1]) > bic_limiar \n",
    "           or abs(janela[1][1][2] - janela[1 + offset[0]][1 + offset[1]][2]) > bic_limiar):\n",
    "            return 'borda'\n",
    "    return 'interior'\n",
    "\n",
    "def fastbic(img):\n",
    "    histogramas_de_interior = [np.zeros(256, dtype=np.int), np.zeros(256, dtype=np.int), np.zeros(256, dtype=np.int)]\n",
    "    histogramas_de_borda = [np.zeros(256, dtype=np.int), np.zeros(256, dtype=np.int), np.zeros(256, dtype=np.int)]\n",
    "    pool = Pool(processes=4)\n",
    "    for i in range(1, img.shape[0] - 1):\n",
    "        resultados = pool.map(detectar_tipo_de_pixel, [(img[i-1:i+2,j-1:j+2]) for j in range(1, img.shape[1] - 1 )])\n",
    "        j = 1\n",
    "        for tipo_de_pixel in resultados:\n",
    "            if(tipo_de_pixel == 'interior'):\n",
    "                histogramas_de_interior[0][img[i][j][0]] += 1\n",
    "                histogramas_de_interior[1][img[i][j][1]] += 1\n",
    "                histogramas_de_interior[2][img[i][j][2]] += 1\n",
    "            else:\n",
    "                histogramas_de_borda[0][img[i][j][0]] += 1\n",
    "                histogramas_de_borda[1][img[i][j][1]] += 1\n",
    "                histogramas_de_borda[2][img[i][j][2]] += 1\n",
    "            j += 1\n",
    "    pool.close()\n",
    "    pool.join()\n",
    "    return histogramas_de_interior, histogramas_de_borda"
   ]
  },
  {
   "cell_type": "code",
   "execution_count": 30,
   "metadata": {
    "colab": {},
    "colab_type": "code",
    "id": "maOoPXdXlIMF"
   },
   "outputs": [],
   "source": [
    "def aplicar_bic_em_video(video, fps, limiar=80, quadro_limite=None):\n",
    "    global bic_limiar\n",
    "    bic_limiar = limiar\n",
    "    proximo_frame = (fps + 1) // 2\n",
    "    caracteristicas = []\n",
    "    cap = cv.VideoCapture(video)\n",
    "    total_de_frames = cap.get(7)\n",
    "    \n",
    "    cap.set(1, 1)\n",
    "    ret, frame = cap.read()\n",
    "    progresso = 0\n",
    "    while(proximo_frame < total_de_frames):\n",
    "        cap.set(1, proximo_frame)\n",
    "        ret, frame = cap.read()\n",
    "        if(ret == False):\n",
    "            break\n",
    "        caracteristicas.append((proximo_frame, fastbic(frame)))\n",
    "        progresso = int(proximo_frame / total_de_frames * 100)\n",
    "        print(f'{progresso}%', end=' ')\n",
    "        proximo_frame += fps\n",
    "        if(quadro_limite != None):\n",
    "            if(proximo_frame >= quadro_limite):\n",
    "                cap.release()\n",
    "                cv.destroyAllWindows()\n",
    "                print(\"bic parou no quadro limite\")\n",
    "                return caracteristicas\n",
    "                \n",
    "    cap.release()\n",
    "    cv.destroyAllWindows()\n",
    "    print('100%')\n",
    "    return caracteristicas\n",
    "\n",
    "def get_quadros_de_corte_do_bic(caracteristicas, distancia, limiar):\n",
    "    quadros_de_corte = []\n",
    "    for i in range(len(caracteristicas) - 1):\n",
    "        ## histogramas de interior e de borda do quadro atual e do próximo\n",
    "        histogramas1 = caracteristicas[i][1]\n",
    "        histogramas2 = caracteristicas[i + 1][1]\n",
    "        if(existe_corte_entre_bgr_histogramas(histogramas1[0], histogramas2[0], distancia, limiar)\n",
    "           or existe_corte_entre_bgr_histogramas(histogramas1[1], histogramas2[1], distancia, limiar)):\n",
    "            quadros_de_corte.append(caracteristicas[i][0])\n",
    "            continue\n",
    "    return quadros_de_corte\n",
    "\n",
    "def roda_experimento_bic(video, fps, quadros_de_corte_reais, dLog_limiar, bic_limiar=80, quadro_limite=None):\n",
    "    warnings.filterwarnings('ignore')\n",
    "    bic_caracteristicas = aplicar_bic_em_video(video, fps, limiar=bic_limiar, quadro_limite=quadro_limite)\n",
    "    quadros_de_corte_preditos = get_quadros_de_corte_do_bic(bic_caracteristicas, dLog, dLog_limiar)\n",
    "    return mostrar_resultados_da_deteccao_de_cenas(quadros_de_corte_reais, quadros_de_corte_preditos, fps)"
   ]
  },
  {
   "cell_type": "markdown",
   "metadata": {
    "colab_type": "text",
    "id": "XwXrDBJglIMS"
   },
   "source": [
    "## Detecção de Cenas"
   ]
  },
  {
   "cell_type": "code",
   "execution_count": 31,
   "metadata": {
    "colab": {},
    "colab_type": "code",
    "id": "aSv7WuTVmRsw"
   },
   "outputs": [],
   "source": [
    "limiar_bic = 800"
   ]
  },
  {
   "cell_type": "markdown",
   "metadata": {
    "colab_type": "text",
    "id": "Axgr2G8AlIMV"
   },
   "source": [
    "### Titanic"
   ]
  },
  {
   "cell_type": "code",
   "execution_count": 32,
   "metadata": {
    "colab": {},
    "colab_type": "code",
    "id": "_1lkvPZ0lIMX",
    "outputId": "2e89c895-fe9e-4039-cdf0-0059b25b4bef",
    "scrolled": true
   },
   "outputs": [
    {
     "name": "stdout",
     "output_type": "stream",
     "text": [
      "0% 0% 1% 2% 2% 3% 3% 4% 5% 5% 6% 6% 7% 8% 8% 9% 9% 10% 11% 11% 12% 12% 13% 14% 14% 15% 15% 16% 17% 17% 18% 18% 19% 20% 20% 21% 21% 22% 23% 23% 24% 24% 25% 26% 26% 27% 27% 28% 29% 29% 30% 30% 31% 32% 32% 33% 33% 34% 35% 35% 36% 36% 37% 38% 38% 39% 39% 40% 41% 41% 42% 42% 43% 44% 44% 45% 45% 46% 47% 47% 48% 48% 49% 50% 50% 51% 51% 52% 53% 53% 54% 54% 55% 56% 56% 57% 57% 58% 59% 59% 60% 60% 61% 62% 62% 63% 63% 64% 65% 65% 66% 66% 67% 68% 68% 69% 69% 70% 71% 71% 72% 72% 73% 74% 74% 75% 75% 76% 77% 77% 78% 78% 79% 80% 80% 81% 81% 82% 83% 83% 84% 84% 85% 86% 86% 87% 87% 88% 89% 89% 90% 90% 91% 92% 92% 93% 93% 94% 95% 95% 96% 96% 97% 98% 98% 99% 99% 100%\n",
      "\n",
      " quadros reais: [124, 332, 376, 513, 563, 636, 669, 685, 723, 788, 819, 920, 966, 1000, 1123, 1384, 1611, 1667, 1820, 2138, 2223, 2305, 2615, 2889, 2990, 3109, 3659] \n",
      "\n",
      "acurácia: 0.44 \n",
      "\n",
      "quadros preditos corretamente: [108, 324, 372, 492, 540, 612, 660, 684, 708, 780, 804, 2604] \n",
      "\n",
      "quadros preditos incorretamente: []\n"
     ]
    },
    {
     "data": {
      "text/plain": [
       "0.4444444444444444"
      ]
     },
     "execution_count": 32,
     "metadata": {},
     "output_type": "execute_result"
    }
   ],
   "source": [
    "roda_experimento_bic('titanic-640x360.mp4', 24, cortes_reais['titanic'], limiar_bic)"
   ]
  },
  {
   "cell_type": "markdown",
   "metadata": {
    "colab_type": "text",
    "id": "79kL_0uRlIMn"
   },
   "source": [
    "### Pica pau"
   ]
  },
  {
   "cell_type": "code",
   "execution_count": 33,
   "metadata": {
    "colab": {},
    "colab_type": "code",
    "id": "2aFBg7hilIMp",
    "outputId": "06ea57f7-9049-43c9-8456-047f8ffee6cf",
    "scrolled": false
   },
   "outputs": [
    {
     "name": "stdout",
     "output_type": "stream",
     "text": [
      "0% 0% 1% 2% 2% 3% 4% 4% 5% 5% 6% 7% 7% 8% 9% 9% 10% 10% 11% 12% 12% 13% 13% 14% 15% 15% 16% 17% 17% 18% 18% 19% 20% 20% 21% 22% 22% 23% 23% 24% 25% 25% 26% 27% 27% 28% 28% 29% 30% 30% 31% 32% 32% 33% 33% 34% 35% 35% 36% 36% 37% 38% 38% 39% 40% 40% 41% 41% 42% 43% 43% 44% 45% 45% 46% 46% 47% 48% 48% 49% 50% 50% 51% 51% 52% 53% 53% 54% 55% 55% 56% 56% 57% 58% 58% 59% 59% 60% 61% 61% 62% 63% 63% 64% 64% 65% 66% 66% 67% 68% 68% 69% 69% 70% 71% 71% 72% 73% 73% 74% 74% 75% 76% 76% 77% 78% 78% 79% 79% 80% 81% 81% 82% 82% 83% 84% 84% 85% 86% 86% 87% 87% 88% 89% 89% 90% 91% 91% 92% 92% 93% 94% 94% 95% 96% 96% 97% 97% 98% 99% 99% 100%\n",
      "\n",
      " quadros reais: [304, 914, 940, 1294, 1361, 1406, 1504, 1594, 1819, 1901, 2216, 2260, 2341, 2429, 2628, 2704, 2804, 2860, 2929, 3004, 3160, 3530, 3604, 3654, 3892, 4010, 4260, 4366, 4541, 4616, 4729, 4778] \n",
      "\n",
      "acurácia: 0.56 \n",
      "\n",
      "quadros preditos corretamente: [285, 885, 915, 1275, 1395, 1485, 1815, 2205, 2235, 2325, 2415, 2685, 3135, 4005, 4245, 4515, 4605, 4755] \n",
      "\n",
      "quadros preditos incorretamente: [435, 735, 4065, 4095, 4155]\n"
     ]
    },
    {
     "data": {
      "text/plain": [
       "0.5625"
      ]
     },
     "execution_count": 33,
     "metadata": {},
     "output_type": "execute_result"
    }
   ],
   "source": [
    "roda_experimento_bic('pica-pau.mkv', 30, cortes_reais['pica_pau'], limiar_bic)"
   ]
  },
  {
   "cell_type": "markdown",
   "metadata": {
    "colab_type": "text",
    "id": "F8OecjeXlIMy"
   },
   "source": [
    "### Jornal G1"
   ]
  },
  {
   "cell_type": "code",
   "execution_count": 34,
   "metadata": {
    "colab": {},
    "colab_type": "code",
    "id": "Zmc-ka78lIMz",
    "outputId": "8ca5d283-d8ff-4e19-dc21-6f525f63a0c2",
    "scrolled": true
   },
   "outputs": [
    {
     "name": "stdout",
     "output_type": "stream",
     "text": [
      "0% 2% 4% 5% 7% 9% 10% 12% 13% 15% 17% 18% 20% 22% 23% 25% 27% 28% 30% 31% 33% 35% 36% 38% 40% 41% 43% 45% 46% 48% 50% 51% 53% 54% 56% 58% 59% 61% 63% 64% 66% 68% 69% 71% 72% 74% 76% 77% 79% 81% 82% 84% 86% 87% 89% 90% 92% 94% 95% 97% 99% 100%\n",
      "\n",
      " quadros reais: [157, 458, 554, 1423, 1454, 1621, 1701] \n",
      "\n",
      "acurácia: 0.57 \n",
      "\n",
      "quadros preditos corretamente: [135, 435, 525, 1695] \n",
      "\n",
      "quadros preditos incorretamente: [45, 75, 105]\n"
     ]
    },
    {
     "data": {
      "text/plain": [
       "0.5714285714285714"
      ]
     },
     "execution_count": 34,
     "metadata": {},
     "output_type": "execute_result"
    }
   ],
   "source": [
    "roda_experimento_bic('jornal.mkv', 30, cortes_reais['jornal'], limiar_bic)"
   ]
  },
  {
   "cell_type": "markdown",
   "metadata": {
    "colab_type": "text",
    "id": "-AgDHPFtEGwv"
   },
   "source": [
    "### Entrevista do Will Smith"
   ]
  },
  {
   "cell_type": "code",
   "execution_count": 35,
   "metadata": {
    "colab": {},
    "colab_type": "code",
    "id": "pidIB_0vEGww",
    "outputId": "43088c35-e11a-40cc-fde4-58a2154cc7e6"
   },
   "outputs": [
    {
     "name": "stdout",
     "output_type": "stream",
     "text": [
      "0% 0% 1% 1% 2% 2% 3% 3% 4% 4% 5% 5% 6% 6% 7% 7% 8% 8% 9% 10% 10% 11% 11% 12% 12% 13% 13% 14% 14% 15% 15% 16% 16% 17% 17% 18% 18% 19% 19% 20% 20% 21% 21% 22% 22% 23% 23% 24% 24% 25% 25% 26% 26% 27% 27% 28% 29% 29% 30% 30% 31% 31% 32% 32% 33% 33% 34% 34% 35% 35% 36% 36% 37% 37% 38% 38% 39% 39% 40% 40% 41% 41% 42% 42% 43% 43% 44% 44% 45% 45% 46% 46% 47% 48% 48% 49% 49% 50% 50% 51% 51% 52% 52% 53% 53% 54% 54% 55% 55% 56% 56% 57% 57% 58% 58% 59% 59% 60% 60% 61% 61% 62% 62% 63% 63% 64% 64% 65% 65% 66% 67% 67% 68% 68% 69% 69% 70% 70% 71% 71% 72% 72% 73% 73% 74% 74% 75% 75% 76% 76% 77% 77% 78% 78% 79% 79% 80% 80% 81% 81% 82% 82% 83% 83% 84% 84% 85% 86% 86% 87% 87% 88% 88% 89% 89% 90% 90% 91% 91% 92% 92% 93% 93% 94% 94% 95% 95% 96% 96% 97% 97% 98% 98% 99% 99% 100%\n",
      "\n",
      " quadros reais: [259, 512, 728, 1648, 1901, 2172, 2357, 2402, 2530, 3098, 3136, 3411, 3738, 4595, 4602, 4640, 4665, 4693, 4771, 4799, 4877, 4906, 5013, 5039, 5091, 5130, 5179, 5213, 5303, 5373, 5490, 5502, 5518, 5573] \n",
      "\n",
      "acurácia: 0.15 \n",
      "\n",
      "quadros preditos corretamente: [495, 5475, 5505, 5535, 5565] \n",
      "\n",
      "quadros preditos incorretamente: []\n"
     ]
    },
    {
     "data": {
      "text/plain": [
       "0.14705882352941177"
      ]
     },
     "execution_count": 35,
     "metadata": {},
     "output_type": "execute_result"
    }
   ],
   "source": [
    "roda_experimento_bic('will_smith_interview360p.mp4', 30, cortes_reais['will_smith'], limiar_bic)"
   ]
  },
  {
   "cell_type": "markdown",
   "metadata": {
    "colab_type": "text",
    "id": "_CDy_4itEGw0"
   },
   "source": [
    "### Trailer do Homem de Ferro"
   ]
  },
  {
   "cell_type": "code",
   "execution_count": 36,
   "metadata": {
    "colab": {},
    "colab_type": "code",
    "id": "EXcLeIqaEGw2",
    "outputId": "db8a5aeb-9a1f-4dce-c4ba-51c2bedcc506",
    "scrolled": false
   },
   "outputs": [
    {
     "name": "stdout",
     "output_type": "stream",
     "text": [
      "0% 1% 2% 2% 3% 4% 5% 6% 7% 7% 8% 9% 10% 11% 12% 12% 13% 14% 15% 16% 16% 17% 18% 19% 20% 21% 21% 22% 23% 24% 25% 26% 26% 27% 28% 29% 30% 31% 31% 32% 33% 34% 35% 36% 36% 37% 38% 39% 40% 41% 41% 42% 43% 44% 45% 46% 46% 47% 48% 49% 50% 50% 51% 52% 53% 54% 55% 55% 56% 57% 58% 59% 60% 60% 61% 62% 63% 64% 65% 65% 66% 67% 68% 69% 70% 70% 71% 72% 73% 74% 75% 75% 76% 77% 78% 79% 80% 80% 81% 82% 83% 84% 84% 85% 86% 87% 88% 89% 89% 90% 91% 92% 93% 94% 94% 95% 96% 97% 98% 99% 99% 100%\n",
      "\n",
      " quadros reais: [33, 98, 136, 231, 242, 300, 327, 350, 356, 381, 404, 433, 449, 483, 503, 582, 601, 647, 659, 683, 699, 714, 738, 756, 786, 812, 837, 856, 871, 904, 918, 953, 984, 1043, 1070, 1114, 1131, 1147, 1158, 1185, 1192, 1214, 1229, 1245, 1259, 1268, 1279, 1288, 1296, 1312, 1337, 1360, 1385, 1401, 1419, 1437, 1449, 1458, 1470, 1510, 1523, 1595, 1639, 1666, 1679, 1701, 1724, 1775, 1800, 1833, 1941, 2023, 2117, 2212, 2276, 2315, 2520, 2558, 2686, 2708] \n",
      "\n",
      "acurácia: 0.65 \n",
      "\n",
      "quadros preditos corretamente: [12, 108, 228, 276, 324, 348, 372, 396, 420, 444, 468, 492, 564, 588, 636, 660, 684, 708, 732, 756, 780, 804, 852, 876, 900, 948, 1020, 1068, 1092, 1116, 1140, 1164, 1188, 1212, 1308, 1332, 1356, 1380, 1452, 1476, 1500, 1620, 1644, 1668, 1764, 2004, 2100, 2196, 2268, 2292, 2580, 2724] \n",
      "\n",
      "quadros preditos incorretamente: [204, 2052, 2148, 2412, 2652, 2820]\n"
     ]
    },
    {
     "data": {
      "text/plain": [
       "0.65"
      ]
     },
     "execution_count": 36,
     "metadata": {},
     "output_type": "execute_result"
    }
   ],
   "source": [
    "roda_experimento_bic('homem_de_ferro_3_trailer.mp4', 24, cortes_reais['homem_de_ferro'], limiar_bic)"
   ]
  },
  {
   "cell_type": "markdown",
   "metadata": {
    "colab_type": "text",
    "id": "NWYr2b-EmRtJ"
   },
   "source": [
    "### Mario Kart"
   ]
  },
  {
   "cell_type": "code",
   "execution_count": 37,
   "metadata": {
    "colab": {},
    "colab_type": "code",
    "id": "Sje41YbzmRtJ"
   },
   "outputs": [
    {
     "name": "stdout",
     "output_type": "stream",
     "text": [
      "0% 1% 2% 3% 4% 5% 6% 7% 9% 10% 11% 12% 13% 14% 15% 16% 17% 18% 19% 20% 21% 22% 23% 24% 25% 27% 28% 29% 30% 31% 32% 33% 34% 35% 36% 37% 38% 39% 40% 41% 42% 43% 45% 46% 47% 48% 49% 50% 51% 52% 53% 54% 55% 56% 57% 58% 59% 60% 61% 63% 64% 65% 66% 67% 68% 69% 70% 71% 72% 73% 74% 75% 76% 77% 78% 79% 81% 82% 83% 84% 85% 86% 87% 88% 89% 90% 91% 92% 93% 94% 95% 96% 97% 99% 100%\n",
      "\n",
      " quadros reais: [31, 213, 262, 308, 361, 410, 459, 508, 559, 606, 708, 804, 901, 1001, 1101, 1198, 1289, 1394, 1445, 1496, 1545, 1592, 1693, 1735, 1772, 1827, 1854, 1939, 1988, 2058, 2081, 2113, 2145, 2170, 2199, 2221, 2245, 2276, 2295, 2316, 2333, 2457, 2732, 2741] \n",
      "\n",
      "acurácia: 0.61 \n",
      "\n",
      "quadros preditos corretamente: [15, 285, 345, 525, 555, 585, 885, 975, 1365, 1485, 1605, 1665, 1725, 1815, 1845, 1935, 2055, 2085, 2145, 2175, 2205, 2265, 2295, 2325, 2355, 2445, 2715] \n",
      "\n",
      "quadros preditos incorretamente: [1635]\n"
     ]
    },
    {
     "data": {
      "text/plain": [
       "0.6136363636363636"
      ]
     },
     "execution_count": 37,
     "metadata": {},
     "output_type": "execute_result"
    }
   ],
   "source": [
    "roda_experimento_bic('marioKartTour360p.mp4', 30, cortes_reais['mario_kart_tour'], limiar_bic)"
   ]
  },
  {
   "cell_type": "markdown",
   "metadata": {
    "colab_type": "text",
    "id": "NjMBp9kOmRtN"
   },
   "source": [
    "### Ponto de Federer"
   ]
  },
  {
   "cell_type": "code",
   "execution_count": 38,
   "metadata": {
    "colab": {},
    "colab_type": "code",
    "id": "lFLaEdPzmRtN"
   },
   "outputs": [
    {
     "name": "stdout",
     "output_type": "stream",
     "text": [
      "0% 1% 2% 2% 3% 4% 5% 6% 6% 7% 8% 9% 10% 10% 11% 12% 13% 14% 14% 15% 16% 17% 18% 18% 19% 20% 21% 22% 23% 23% 24% 25% 26% 27% 27% 28% 29% 30% 31% 31% 32% 33% 34% 35% 35% 36% 37% 38% 39% 39% 40% 41% 42% 43% 43% 44% 45% 46% 47% 48% 48% 49% 50% 51% 52% 52% 53% 54% 55% 56% 56% 57% 58% 59% 60% 60% 61% 62% 63% 64% 64% 65% 66% 67% 68% 69% 69% 70% 71% 72% 73% 73% 74% 75% 76% 77% 77% 78% 79% 80% 81% 81% 82% 83% 84% 85% 85% 86% 87% 88% 89% 89% 90% 91% 92% 93% 94% 94% 95% 96% 97% 98% 98% 99% 100%\n",
      "\n",
      " quadros reais: [20, 154, 178, 436, 668, 821, 927, 936, 947, 1039, 1486, 1553, 1765, 1887, 2949] \n",
      "\n",
      "acurácia: 0.67 \n",
      "\n",
      "quadros preditos corretamente: [13, 163, 413, 663, 913, 1038, 1463, 1538, 1763, 1863] \n",
      "\n",
      "quadros preditos incorretamente: []\n"
     ]
    },
    {
     "data": {
      "text/plain": [
       "0.6666666666666666"
      ]
     },
     "execution_count": 38,
     "metadata": {},
     "output_type": "execute_result"
    }
   ],
   "source": [
    "roda_experimento_bic('pontoFederer_360p.mp4', 25, cortes_reais['pontos_federer'], limiar_bic)"
   ]
  },
  {
   "cell_type": "markdown",
   "metadata": {
    "colab_type": "text",
    "id": "70iuHlDGmRtQ"
   },
   "source": [
    "### Coração Valente"
   ]
  },
  {
   "cell_type": "code",
   "execution_count": 39,
   "metadata": {
    "colab": {},
    "colab_type": "code",
    "id": "ylq393WGmRtR"
   },
   "outputs": [
    {
     "name": "stdout",
     "output_type": "stream",
     "text": [
      "0% 0% 1% 1% 2% 2% 3% 3% 4% 4% 5% 5% 6% 6% 7% 7% 8% 8% 9% 9% 10% 10% 11% 11% 12% 12% 12% 13% 13% 14% 14% 15% 15% 16% 16% 17% 17% 18% 18% 19% 19% 20% 20% 21% 21% 22% 22% 23% 23% 24% 24% 25% 25% 26% 26% 27% 27% 28% 28% 29% 29% 30% 30% 31% 31% 32% 32% 33% 33% 34% 34% 35% 35% 36% 36% 36% 37% 37% 38% 38% 39% 39% 40% 40% 41% 41% 42% 42% 43% 43% 44% 44% 45% 45% 46% 46% 47% 47% 48% 48% 49% 49% 50% 50% 51% 51% 52% 52% 53% 53% 54% 54% 55% 55% 56% 56% 57% 57% 58% 58% 59% 59% 60% 60% 61% 61% 61% 62% 62% 63% 63% 64% 64% 65% 65% 66% 66% 67% 67% 68% 68% 69% 69% 70% 70% 71% 71% 72% 72% 73% 73% 74% 74% 75% 75% 76% 76% 77% 77% 78% 78% 79% 79% 80% 80% 81% 81% 82% 82% 83% 83% 84% 84% 85% 85% 85% 86% 86% 87% 87% 88% 88% 89% 89% 90% 90% 91% 91% 92% 92% 93% 93% 94% 94% 95% 95% 96% 96% 97% 97% 98% 98% 99% 99% 100%\n",
      "\n",
      " quadros reais: [23, 37, 108, 197, 338, 459, 528, 562, 587, 643, 708, 742, 787, 820, 982, 1100, 1125, 1237, 1315, 1378, 1436, 1470, 1512, 1570, 1625, 1671, 1733, 1877, 1942, 2073, 2120, 2400, 2428, 2451, 2792, 2914, 3235, 3291, 3311, 3343, 3367, 3451, 3676, 3709, 3743, 3845, 3936, 4081, 4112, 4151, 4317, 4378, 4458, 4506, 4554, 4579, 4618, 4659, 4699, 4750, 4841, 4883, 4940, 4959, 4972, 5016, 5030] \n",
      "\n",
      "acurácia: 0.22 \n",
      "\n",
      "quadros preditos corretamente: [13, 188, 438, 513, 2063, 3438, 3838, 3913, 4613, 4838, 4863, 4938, 4963, 4988, 5013] \n",
      "\n",
      "quadros preditos incorretamente: []\n"
     ]
    },
    {
     "data": {
      "text/plain": [
       "0.22388059701492538"
      ]
     },
     "execution_count": 39,
     "metadata": {},
     "output_type": "execute_result"
    }
   ],
   "source": [
    "roda_experimento_bic('coracaoValenteDiscurso_360p.mp4', 25, cortes_reais['coracao_valente'], limiar_bic)"
   ]
  },
  {
   "cell_type": "markdown",
   "metadata": {
    "colab_type": "text",
    "id": "QCVHLHCmmRtU"
   },
   "source": [
    "### Trailer de Warcraft"
   ]
  },
  {
   "cell_type": "code",
   "execution_count": 40,
   "metadata": {
    "colab": {},
    "colab_type": "code",
    "id": "zBwiVbm-mRtU",
    "scrolled": false
   },
   "outputs": [
    {
     "name": "stdout",
     "output_type": "stream",
     "text": [
      "0% 1% 1% 2% 3% 4% 4% 5% 6% 7% 7% 8% 9% 10% 10% 11% 12% 13% 13% 14% 15% 16% 16% 17% 18% 19% 19% 20% 21% 22% 22% 23% 24% 25% 25% 26% 27% 28% 28% 29% 30% 31% 31% 32% 33% 34% 34% 35% 36% 37% 37% 38% 39% 40% 40% 41% 42% 43% 43% 44% 45% 46% 47% 47% 48% 49% 50% 50% 51% 52% 53% 53% 54% 55% 56% 56% 57% 58% 59% 59% 60% 61% 62% 62% 63% 64% 65% 65% 66% 67% 68% 68% 69% 70% 71% 71% 72% 73% 74% 74% 75% 76% 77% 77% 78% 79% 80% 80% 81% 82% 83% 83% 84% 85% 86% 86% 87% 88% 89% 89% 90% 91% 92% 92% 93% 94% 95% 95% 96% 97% 98% 98% 99% 100%\n",
      "\n",
      " quadros reais: [120, 153, 178, 196, 236, 252, 285, 300, 362, 400, 430, 470, 504, 547, 579, 621, 628, 672, 702, 717, 727, 740, 760, 768, 782, 802, 874, 899, 925, 952, 1003, 1039, 1080, 1115, 1147, 1198, 1222, 1262, 1304, 1340, 1353, 1375, 1393, 1408, 1439, 1470, 1494, 1521, 1562, 1580, 1606, 1624, 1636, 1661, 1715, 1758, 1775, 1800, 1829, 1867, 1894, 1959, 1967, 1987, 2004, 2024, 2040, 2084, 2112, 2119, 2136, 2160, 2188, 2219, 2239, 2265, 2273, 2291, 2304, 2326, 2358, 2370, 2382, 2397, 2430, 2448, 2477, 2491, 2508, 2521, 2542, 2556, 2577, 2596, 2625, 2678, 2716, 2730, 2761, 2819, 2860, 2900, 3100, 3114, 3185] \n",
      "\n",
      "acurácia: 0.55 \n",
      "\n",
      "quadros preditos corretamente: [108, 132, 276, 300, 324, 348, 396, 420, 468, 492, 540, 564, 612, 636, 660, 732, 756, 780, 852, 876, 972, 996, 1020, 1068, 1092, 1164, 1188, 1284, 1428, 1452, 1524, 1572, 1620, 1644, 1692, 1884, 1908, 1956, 2004, 2076, 2100, 2124, 2148, 2268, 2316, 2340, 2580, 2604, 2628, 2676, 2700, 2724, 2748, 2796, 2868, 2892, 3084, 3108] \n",
      "\n",
      "quadros preditos incorretamente: [1932, 2652, 3060, 3156]\n"
     ]
    },
    {
     "data": {
      "text/plain": [
       "0.5523809523809524"
      ]
     },
     "execution_count": 40,
     "metadata": {},
     "output_type": "execute_result"
    }
   ],
   "source": [
    "roda_experimento_bic('warcraftTrailler360p.mp4', 24, cortes_reais['warcraft_trailler'], limiar_bic)"
   ]
  },
  {
   "cell_type": "markdown",
   "metadata": {
    "colab_type": "text",
    "id": "Q9yYsCQpSdxw"
   },
   "source": [
    "### Rei Leão"
   ]
  },
  {
   "cell_type": "code",
   "execution_count": 41,
   "metadata": {
    "colab": {
     "base_uri": "https://localhost:8080/",
     "height": 367
    },
    "colab_type": "code",
    "id": "BmMZHLzQSeC4",
    "outputId": "5bd1f0a8-ea1a-4728-a2c0-9f7a380faf93"
   },
   "outputs": [
    {
     "name": "stdout",
     "output_type": "stream",
     "text": [
      "0% 0% 1% 2% 2% 3% 4% 4% 5% 6% 6% 7% 7% 8% 9% 9% 10% 11% 11% 12% 13% 13% 14% 15% 15% 16% 16% 17% 18% 18% 19% 20% 20% 21% 22% 22% 23% 23% 24% 25% 25% 26% 27% 27% 28% 29% 29% 30% 30% 31% 32% 32% 33% 34% 34% 35% 36% 36% 37% 37% 38% 39% 39% 40% 41% 41% 42% 43% 43% 44% 45% 45% 46% 46% 47% 48% 48% 49% 50% 50% 51% 52% 52% 53% 53% 54% 55% 55% 56% 57% 57% 58% 59% 59% 60% 60% 61% 62% 62% 63% 64% 64% 65% 66% 66% 67% 68% 68% 69% 69% 70% 71% 71% 72% 73% 73% 74% 75% 75% 76% 76% 77% 78% 78% 79% 80% 80% 81% 82% 82% 83% 83% 84% 85% 85% 86% 87% 87% 88% 89% 89% 90% 90% 91% 92% 92% 93% 94% 94% 95% 96% 96% 97% 98% 98% 99% 99% 100%\n",
      "\n",
      " quadros reais: [30, 679, 801, 976, 1027, 1087, 1251, 1301, 1351, 1392, 1563, 1669, 1779, 1815, 1897, 2088, 2279, 2371, 2508, 2535, 2565, 2632, 2728, 2847, 3122, 3229, 3286, 3413, 3649, 3711, 3997, 4117, 4536, 4689] \n",
      "\n",
      "acurácia: 0.53 \n",
      "\n",
      "quadros preditos corretamente: [15, 975, 1275, 1335, 1755, 1785, 1875, 2085, 2355, 3105, 3225, 3405, 3645, 3705, 3975, 4095, 4515, 4665] \n",
      "\n",
      "quadros preditos incorretamente: [1965, 4275, 4635]\n"
     ]
    },
    {
     "data": {
      "text/plain": [
       "0.5294117647058824"
      ]
     },
     "execution_count": 41,
     "metadata": {},
     "output_type": "execute_result"
    }
   ],
   "source": [
    "roda_experimento_bic('reiLeao_360p.mp4', 30, cortes_reais['rei_leao'], limiar_bic)"
   ]
  },
  {
   "cell_type": "markdown",
   "metadata": {
    "colab_type": "text",
    "id": "FHRYvh__WFEJ"
   },
   "source": [
    "## 5. BIC Local - Particionamento grid 5x5"
   ]
  },
  {
   "cell_type": "code",
   "execution_count": 42,
   "metadata": {
    "colab": {},
    "colab_type": "code",
    "id": "44MWOmnalIM8"
   },
   "outputs": [],
   "source": [
    "def get_quadros_de_corte_do_bic_local(caracteristicas, distancia, limiar):\n",
    "    quadros_de_corte = []\n",
    "    for k in range(len(caracteristicas[0][0]) - 1):\n",
    "        corte_encontrado = False\n",
    "        for i in range(5):\n",
    "            if(corte_encontrado):\n",
    "                break\n",
    "            for j in range(5):\n",
    "                histogramas1 = caracteristicas[i][j][k][1]\n",
    "                histogramas2 = caracteristicas[i][j][k + 1][1]\n",
    "                if(existe_corte_entre_bgr_histogramas(histogramas1[0], histogramas2[0], distancia, limiar)\n",
    "                   or existe_corte_entre_bgr_histogramas(histogramas1[1], histogramas2[1], distancia, limiar)):\n",
    "                    quadros_de_corte.append((caracteristicas[i][j][k][0]))\n",
    "                    corte_encontrado = True\n",
    "    return quadros_de_corte\n",
    "\n",
    "def aplicar_bic_local_em_video(video, fps, limiar=80, quadro_limite=None):\n",
    "    global bic_limiar\n",
    "    bic_limiar = limiar\n",
    "    proximo_frame = (fps + 1) // 2\n",
    "    caracteristicas = [[[] for i in range(10)] for j in range(10)]\n",
    "    cap = cv.VideoCapture(video)\n",
    "    total_de_frames = cap.get(7)\n",
    "    \n",
    "    cap.set(1, 1)\n",
    "    ret, frame = cap.read()\n",
    "    tamanho_do_grid = [frame.shape[0] // 5, frame.shape[1] // 5] \n",
    "    progresso = 0\n",
    "    while(proximo_frame < total_de_frames):\n",
    "        cap.set(1, proximo_frame)\n",
    "        ret, frame = cap.read()\n",
    "        if(ret == False):\n",
    "            break\n",
    "        for i in range(5):\n",
    "            for j in range(5):\n",
    "                grid_atual = frame[i*tamanho_do_grid[0]:tamanho_do_grid[0]+1, j*tamanho_do_grid[1]:tamanho_do_grid[1]+1]\n",
    "                caracteristicas[i][j].append((proximo_frame, fastbic(grid_atual)))\n",
    "        progresso = int(proximo_frame / total_de_frames * 100)\n",
    "        print(f'{progresso}%', end=' ')\n",
    "        proximo_frame += fps\n",
    "        if(quadro_limite != None):\n",
    "            if(proximo_frame >= quadro_limite):\n",
    "                cap.release()\n",
    "                cv.destroyAllWindows()\n",
    "                print(\"bic parou no quadro limite\")\n",
    "                return caracteristicas\n",
    "    cap.release()\n",
    "    cv.destroyAllWindows()\n",
    "    print('100%')\n",
    "    return caracteristicas\n",
    "\n",
    "def roda_experimento_bic_local(video, fps, quadros_de_corte_reais, dLog_limiar, bic_limiar=80, quadro_limite=None):\n",
    "    warnings.filterwarnings('ignore')\n",
    "    bic_caracteristicas = aplicar_bic_local_em_video(video, fps, limiar=bic_limiar, quadro_limite=quadro_limite)\n",
    "    quadros_de_corte_preditos = get_quadros_de_corte_do_bic_local(bic_caracteristicas, dLog, dLog_limiar)\n",
    "    return mostrar_resultados_da_deteccao_de_cenas(quadros_de_corte_reais, quadros_de_corte_preditos, fps)"
   ]
  },
  {
   "cell_type": "code",
   "execution_count": 43,
   "metadata": {
    "colab": {},
    "colab_type": "code",
    "id": "IdTA-NfB6T2C"
   },
   "outputs": [],
   "source": [
    "def bic(img):\n",
    "    histogramas_de_interior = [np.zeros(256, dtype=np.int), np.zeros(256, dtype=np.int), np.zeros(256, dtype=np.int)]\n",
    "    histogramas_de_borda = [np.zeros(256, dtype=np.int), np.zeros(256, dtype=np.int), np.zeros(256, dtype=np.int)]\n",
    "    for i in range(1, img.shape[0] - 1):\n",
    "        for j in range(1, img.shape[1] - 1):\n",
    "            tipo_de_pixel = detectar_tipo_de_pixel(img[i-1:i+2,j-1:j+2])\n",
    "            if(tipo_de_pixel == 'interior'):\n",
    "                histogramas_de_interior[0][img[i][j][0]] += 1\n",
    "                histogramas_de_interior[1][img[i][j][1]] += 1\n",
    "                histogramas_de_interior[2][img[i][j][2]] += 1\n",
    "            else:\n",
    "                histogramas_de_borda[0][img[i][j][0]] += 1\n",
    "                histogramas_de_borda[1][img[i][j][1]] += 1\n",
    "                histogramas_de_borda[2][img[i][j][2]] += 1\n",
    "    return histogramas_de_interior, histogramas_de_borda\n",
    "\n",
    "def aplicar_bic_local_paralelo_em_video(video, fps, limiar=80, quadro_limite=None):\n",
    "    global bic_limiar\n",
    "    bic_limiar = limiar\n",
    "    proximo_frame = (fps + 1) // 2\n",
    "    caracteristicas = [[[] for i in range(10)] for j in range(10)]\n",
    "    cap = cv.VideoCapture(video)\n",
    "    total_de_frames = cap.get(7)\n",
    "    \n",
    "    cap.set(1, 1)\n",
    "    ret, frame = cap.read()\n",
    "    tamanho_do_grid = [frame.shape[0] // 5, frame.shape[1] // 5] \n",
    "    progresso = 0\n",
    "    while(proximo_frame < total_de_frames):\n",
    "        cap.set(1, proximo_frame)\n",
    "        ret, frame = cap.read()\n",
    "        if(ret == False):\n",
    "            break\n",
    "        pool = Pool(processes=4)\n",
    "        for i in range(5):\n",
    "            resultados = pool.map(bic, [(frame[i*tamanho_do_grid[0]:tamanho_do_grid[0]+1, j*tamanho_do_grid[1]:tamanho_do_grid[1]+1]) for j in range(5)])\n",
    "            for j in range(5):\n",
    "                caracteristicas[i][j].append((proximo_frame, resultados[j]))\n",
    "        pool.close()\n",
    "        pool.join()\n",
    "        progresso = int(proximo_frame / total_de_frames * 100)\n",
    "        print(f'{progresso}%', end=' ')\n",
    "        proximo_frame += fps\n",
    "        if(quadro_limite != None):\n",
    "            if(proximo_frame >= quadro_limite):\n",
    "                cap.release()\n",
    "                cv.destroyAllWindows()\n",
    "                print(\"bic parou no quadro limite\")\n",
    "                return caracteristicas\n",
    "    cap.release()\n",
    "    cv.destroyAllWindows()\n",
    "    print('100%')\n",
    "    return caracteristicas\n",
    "\n",
    "def roda_experimento_bic_local_paralelo(video, fps, quadros_de_corte_reais, dLog_limiar, bic_limiar=80, quadro_limite=None):\n",
    "    warnings.filterwarnings('ignore')\n",
    "    bic_caracteristicas = aplicar_bic_local_paralelo_em_video(video, fps, limiar=bic_limiar, quadro_limite=quadro_limite)\n",
    "    quadros_de_corte_preditos = get_quadros_de_corte_do_bic_local(bic_caracteristicas, dLog, dLog_limiar)\n",
    "    return mostrar_resultados_da_deteccao_de_cenas(quadros_de_corte_reais, quadros_de_corte_preditos, fps)"
   ]
  },
  {
   "cell_type": "markdown",
   "metadata": {
    "colab_type": "text",
    "id": "nm6f01sQEGxD"
   },
   "source": [
    "## Detecção de cenas"
   ]
  },
  {
   "cell_type": "code",
   "execution_count": 44,
   "metadata": {
    "colab": {},
    "colab_type": "code",
    "id": "Ags3KZbzmRtj"
   },
   "outputs": [],
   "source": [
    "limiar_bic_local = 500"
   ]
  },
  {
   "cell_type": "markdown",
   "metadata": {
    "colab_type": "text",
    "id": "i71QD9IkEGxE"
   },
   "source": [
    "### Titanic"
   ]
  },
  {
   "cell_type": "markdown",
   "metadata": {
    "colab_type": "text",
    "id": "j_Opoq0E6T2I"
   },
   "source": [
    "### BÔNUS: Comparando duas formas de paralelizar o BIC local\n",
    "### versão 1. Grids rodam em paralelo: cada processo tem sua grid"
   ]
  },
  {
   "cell_type": "code",
   "execution_count": 45,
   "metadata": {
    "colab": {},
    "colab_type": "code",
    "id": "BPLypnJu6T2J",
    "outputId": "439f6c9c-f857-4fdc-a5be-6ef0c9ae2594"
   },
   "outputs": [
    {
     "name": "stdout",
     "output_type": "stream",
     "text": [
      "0% 0% 1% 2% 2% 3% 3% 4% 5% 5% 6% 6% 7% 8% 8% 9% 9% 10% 11% 11% 12% 12% 13% 14% 14% 15% 15% 16% 17% 17% 18% 18% 19% 20% 20% 21% 21% 22% 23% 23% 24% 24% 25% 26% 26% 27% 27% 28% 29% 29% 30% 30% 31% 32% 32% 33% 33% 34% 35% 35% 36% 36% 37% 38% 38% 39% 39% 40% 41% 41% 42% 42% 43% 44% 44% 45% 45% 46% 47% 47% 48% 48% 49% 50% 50% 51% 51% 52% 53% 53% 54% 54% 55% 56% 56% 57% 57% 58% 59% 59% 60% 60% 61% 62% 62% 63% 63% 64% 65% 65% 66% 66% 67% 68% 68% 69% 69% 70% 71% 71% 72% 72% 73% 74% 74% 75% 75% 76% 77% 77% 78% 78% 79% 80% 80% 81% 81% 82% 83% 83% 84% 84% 85% 86% 86% 87% 87% 88% 89% 89% 90% 90% 91% 92% 92% 93% 93% 94% 95% 95% 96% 96% 97% 98% 98% 99% 99% 100%\n",
      "\n",
      " quadros reais: [124, 332, 376, 513, 563, 636, 669, 685, 723, 788, 819, 920, 966, 1000, 1123, 1384, 1611, 1667, 1820, 2138, 2223, 2305, 2615, 2889, 2990, 3109, 3659] \n",
      "\n",
      "acurácia: 0.56 \n",
      "\n",
      "quadros preditos corretamente: [108, 324, 372, 492, 660, 780, 804, 900, 996, 1596, 2124, 2220, 2604, 2868, 2988] \n",
      "\n",
      "quadros preditos incorretamente: [36, 84, 2436, 2508, 2700, 2724]\n",
      "--- 50.7778844833374 seconds ---\n"
     ]
    }
   ],
   "source": [
    "start_time = time.time()\n",
    "roda_experimento_bic_local_paralelo('titanic-640x360.mp4', 24, cortes_reais['titanic'], limiar_bic_local)\n",
    "print(\"--- %s seconds ---\" % (time.time() - start_time))"
   ]
  },
  {
   "cell_type": "markdown",
   "metadata": {
    "colab_type": "text",
    "id": "9SGoW3Qj6T2N"
   },
   "source": [
    "### versão 2. Operações paralelas dentro de cada grid: cada grid tem vários processos"
   ]
  },
  {
   "cell_type": "code",
   "execution_count": 46,
   "metadata": {
    "colab": {},
    "colab_type": "code",
    "id": "i5jcOwSolINH",
    "outputId": "413a3c5a-930c-4155-f46a-784d950d3af5",
    "scrolled": false
   },
   "outputs": [
    {
     "name": "stdout",
     "output_type": "stream",
     "text": [
      "0% 0% 1% 2% 2% 3% 3% 4% 5% 5% 6% 6% 7% 8% 8% 9% bic parou no quadro limite\n",
      "\n",
      " quadros reais: [124, 332, 376, 513, 563, 636, 669, 685, 723, 788, 819, 920, 966, 1000, 1123, 1384, 1611, 1667, 1820, 2138, 2223, 2305, 2615, 2889, 2990, 3109, 3659] \n",
      "\n",
      "acurácia: 0.07 \n",
      "\n",
      "quadros preditos corretamente: [108, 324] \n",
      "\n",
      "quadros preditos incorretamente: [36, 84]\n",
      "--- 59.73082661628723 seconds ---\n"
     ]
    }
   ],
   "source": [
    "start_time = time.time()\n",
    "roda_experimento_bic_local('titanic-640x360.mp4', 24, cortes_reais['titanic'], \n",
    "                           limiar_bic_local, quadro_limite=380)\n",
    "print(\"--- %s seconds ---\" % (time.time() - start_time))"
   ]
  },
  {
   "cell_type": "markdown",
   "metadata": {
    "colab_type": "text",
    "id": "kwtrKIPREGxK"
   },
   "source": [
    "### Pica pau"
   ]
  },
  {
   "cell_type": "code",
   "execution_count": 47,
   "metadata": {
    "colab": {},
    "colab_type": "code",
    "id": "VWnXG5H7EGxL",
    "outputId": "4fad2ed5-92f9-4190-acce-38be2f1ca2a5"
   },
   "outputs": [
    {
     "name": "stdout",
     "output_type": "stream",
     "text": [
      "0% 0% 1% 2% 2% 3% 4% 4% 5% 5% 6% 7% 7% 8% 9% 9% 10% 10% 11% 12% 12% 13% 13% 14% 15% 15% 16% 17% 17% 18% 18% 19% 20% 20% 21% 22% 22% 23% 23% 24% 25% 25% 26% 27% 27% 28% 28% 29% 30% 30% 31% 32% 32% 33% 33% 34% 35% 35% 36% 36% 37% 38% 38% 39% 40% 40% 41% 41% 42% 43% 43% 44% 45% 45% 46% 46% 47% 48% 48% 49% 50% 50% 51% 51% 52% 53% 53% 54% 55% 55% 56% 56% 57% 58% 58% 59% 59% 60% 61% 61% 62% 63% 63% 64% 64% 65% 66% 66% 67% 68% 68% 69% 69% 70% 71% 71% 72% 73% 73% 74% 74% 75% 76% 76% 77% 78% 78% 79% 79% 80% 81% 81% 82% 82% 83% 84% 84% 85% 86% 86% 87% 87% 88% 89% 89% 90% 91% 91% 92% 92% 93% 94% 94% 95% 96% 96% 97% 97% 98% 99% 99% 100%\n",
      "\n",
      " quadros reais: [304, 914, 940, 1294, 1361, 1406, 1504, 1594, 1819, 1901, 2216, 2260, 2341, 2429, 2628, 2704, 2804, 2860, 2929, 3004, 3160, 3530, 3604, 3654, 3892, 4010, 4260, 4366, 4541, 4616, 4729, 4778] \n",
      "\n",
      "acurácia: 0.66 \n",
      "\n",
      "quadros preditos corretamente: [285, 915, 1275, 1335, 1395, 1485, 1575, 1815, 1875, 2205, 2235, 2325, 2415, 2625, 2685, 2925, 3135, 3585, 4005, 4245, 4755] \n",
      "\n",
      "quadros preditos incorretamente: [1695, 2475, 3495, 4065, 4095, 4155, 4665]\n"
     ]
    },
    {
     "data": {
      "text/plain": [
       "0.65625"
      ]
     },
     "execution_count": 47,
     "metadata": {},
     "output_type": "execute_result"
    }
   ],
   "source": [
    "roda_experimento_bic_local_paralelo('pica-pau.mkv', 30, cortes_reais['pica_pau'], limiar_bic_local)"
   ]
  },
  {
   "cell_type": "markdown",
   "metadata": {
    "colab_type": "text",
    "id": "eTi0WwLSmRtw"
   },
   "source": [
    "### Jornal G1"
   ]
  },
  {
   "cell_type": "code",
   "execution_count": 48,
   "metadata": {
    "colab": {},
    "colab_type": "code",
    "id": "u4tHcDTzmRtx",
    "outputId": "926c6940-2244-483e-b8c5-4972eace50fa"
   },
   "outputs": [
    {
     "name": "stdout",
     "output_type": "stream",
     "text": [
      "0% 2% 4% 5% 7% 9% 10% 12% 13% 15% 17% 18% 20% 22% 23% 25% 27% 28% 30% 31% 33% 35% 36% 38% 40% 41% 43% 45% 46% 48% 50% 51% 53% 54% 56% 58% 59% 61% 63% 64% 66% 68% 69% 71% 72% 74% 76% 77% 79% 81% 82% 84% 86% 87% 89% 90% 92% 94% 95% 97% 99% 100%\n",
      "\n",
      " quadros reais: [157, 458, 554, 1423, 1454, 1621, 1701] \n",
      "\n",
      "acurácia: 1.00 \n",
      "\n",
      "quadros preditos corretamente: [135, 435, 525, 1395, 1425, 1605, 1695] \n",
      "\n",
      "quadros preditos incorretamente: [15, 45, 75, 105, 255, 285, 1485, 1545, 1755]\n"
     ]
    },
    {
     "data": {
      "text/plain": [
       "1.0"
      ]
     },
     "execution_count": 48,
     "metadata": {},
     "output_type": "execute_result"
    }
   ],
   "source": [
    "roda_experimento_bic_local_paralelo('jornal.mkv', 30, cortes_reais['jornal'], limiar_bic_local)"
   ]
  },
  {
   "cell_type": "markdown",
   "metadata": {
    "colab_type": "text",
    "id": "RiKggcpSmRtz"
   },
   "source": [
    "### Entrevista do Will Smith"
   ]
  },
  {
   "cell_type": "code",
   "execution_count": 49,
   "metadata": {
    "colab": {},
    "colab_type": "code",
    "id": "COjDMLidmRt0",
    "outputId": "c4bd8298-da3f-4976-f9a2-6c0eda3fb8a2"
   },
   "outputs": [
    {
     "name": "stdout",
     "output_type": "stream",
     "text": [
      "0% 0% 1% 1% 2% 2% 3% 3% 4% 4% 5% 5% 6% 6% 7% 7% 8% 8% 9% 10% 10% 11% 11% 12% 12% 13% 13% 14% 14% 15% 15% 16% 16% 17% 17% 18% 18% 19% 19% 20% 20% 21% 21% 22% 22% 23% 23% 24% 24% 25% 25% 26% 26% 27% 27% 28% 29% 29% 30% 30% 31% 31% 32% 32% 33% 33% 34% 34% 35% 35% 36% 36% 37% 37% 38% 38% 39% 39% 40% 40% 41% 41% 42% 42% 43% 43% 44% 44% 45% 45% 46% 46% 47% 48% 48% 49% 49% 50% 50% 51% 51% 52% 52% 53% 53% 54% 54% 55% 55% 56% 56% 57% 57% 58% 58% 59% 59% 60% 60% 61% 61% 62% 62% 63% 63% 64% 64% 65% 65% 66% 67% 67% 68% 68% 69% 69% 70% 70% 71% 71% 72% 72% 73% 73% 74% 74% 75% 75% 76% 76% 77% 77% 78% 78% 79% 79% 80% 80% 81% 81% 82% 82% 83% 83% 84% 84% 85% 86% 86% 87% 87% 88% 88% 89% 89% 90% 90% 91% 91% 92% 92% 93% 93% 94% 94% 95% 95% 96% 96% 97% 97% 98% 98% 99% 99% 100%\n",
      "\n",
      " quadros reais: [259, 512, 728, 1648, 1901, 2172, 2357, 2402, 2530, 3098, 3136, 3411, 3738, 4595, 4602, 4640, 4665, 4693, 4771, 4799, 4877, 4906, 5013, 5039, 5091, 5130, 5179, 5213, 5303, 5373, 5490, 5502, 5518, 5573] \n",
      "\n",
      "acurácia: 0.53 \n",
      "\n",
      "quadros preditos corretamente: [255, 3075, 4635, 4665, 4755, 4785, 4905, 4995, 5025, 5085, 5115, 5175, 5205, 5295, 5355, 5475, 5505, 5565] \n",
      "\n",
      "quadros preditos incorretamente: [4845, 5445]\n"
     ]
    },
    {
     "data": {
      "text/plain": [
       "0.5294117647058824"
      ]
     },
     "execution_count": 49,
     "metadata": {},
     "output_type": "execute_result"
    }
   ],
   "source": [
    "roda_experimento_bic_local_paralelo('will_smith_interview360p.mp4', 30, \n",
    "                                    cortes_reais['will_smith'], limiar_bic_local)"
   ]
  },
  {
   "cell_type": "markdown",
   "metadata": {
    "colab_type": "text",
    "id": "QF9auLh2mRt2"
   },
   "source": [
    "### Trailer do Homem de Ferro"
   ]
  },
  {
   "cell_type": "code",
   "execution_count": 50,
   "metadata": {
    "colab": {},
    "colab_type": "code",
    "id": "-sSf8m6OmRt2",
    "outputId": "928d58df-89c3-4e7d-861d-b2b9cf8f832d"
   },
   "outputs": [
    {
     "name": "stdout",
     "output_type": "stream",
     "text": [
      "0% 1% 2% 2% 3% 4% 5% 6% 7% 7% 8% 9% 10% 11% 12% 12% 13% 14% 15% 16% 16% 17% 18% 19% 20% 21% 21% 22% 23% 24% 25% 26% 26% 27% 28% 29% 30% 31% 31% 32% 33% 34% 35% 36% 36% 37% 38% 39% 40% 41% 41% 42% 43% 44% 45% 46% 46% 47% 48% 49% 50% 50% 51% 52% 53% 54% 55% 55% 56% 57% 58% 59% 60% 60% 61% 62% 63% 64% 65% 65% 66% 67% 68% 69% 70% 70% 71% 72% 73% 74% 75% 75% 76% 77% 78% 79% 80% 80% 81% 82% 83% 84% 84% 85% 86% 87% 88% 89% 89% 90% 91% 92% 93% 94% 94% 95% 96% 97% 98% 99% 99% 100%\n",
      "\n",
      " quadros reais: [33, 98, 136, 231, 242, 300, 327, 350, 356, 381, 404, 433, 449, 483, 503, 582, 601, 647, 659, 683, 699, 714, 738, 756, 786, 812, 837, 856, 871, 904, 918, 953, 984, 1043, 1070, 1114, 1131, 1147, 1158, 1185, 1192, 1214, 1229, 1245, 1259, 1268, 1279, 1288, 1296, 1312, 1337, 1360, 1385, 1401, 1419, 1437, 1449, 1458, 1470, 1510, 1523, 1595, 1639, 1666, 1679, 1701, 1724, 1775, 1800, 1833, 1941, 2023, 2117, 2212, 2276, 2315, 2520, 2558, 2686, 2708] \n",
      "\n",
      "acurácia: 0.54 \n",
      "\n",
      "quadros preditos corretamente: [228, 276, 324, 348, 372, 396, 420, 444, 468, 492, 756, 780, 804, 900, 948, 1020, 1068, 1092, 1140, 1164, 1188, 1212, 1236, 1260, 1308, 1332, 1356, 1380, 1404, 1500, 1524, 1572, 1620, 1668, 1692, 1716, 1764, 1788, 1812, 1932, 2004, 2100, 2268] \n",
      "\n",
      "quadros preditos incorretamente: [540, 1908, 2052, 2076]\n"
     ]
    },
    {
     "data": {
      "text/plain": [
       "0.5375"
      ]
     },
     "execution_count": 50,
     "metadata": {},
     "output_type": "execute_result"
    }
   ],
   "source": [
    "roda_experimento_bic_local_paralelo('homem_de_ferro_3_trailer.mp4', 24, \n",
    "                                    cortes_reais['homem_de_ferro'], limiar_bic_local)"
   ]
  },
  {
   "cell_type": "markdown",
   "metadata": {
    "colab_type": "text",
    "id": "bRzsZluFmRt5"
   },
   "source": [
    "### Mario Kart"
   ]
  },
  {
   "cell_type": "code",
   "execution_count": 51,
   "metadata": {
    "colab": {},
    "colab_type": "code",
    "id": "X9zbHY7OmRt5",
    "outputId": "4e032d88-2475-4ae4-8cb4-92aaddd7a29a"
   },
   "outputs": [
    {
     "name": "stdout",
     "output_type": "stream",
     "text": [
      "0% 1% 2% 3% 4% 5% 6% 7% 9% 10% 11% 12% 13% 14% 15% 16% 17% 18% 19% 20% 21% 22% 23% 24% 25% 27% 28% 29% 30% 31% 32% 33% 34% 35% 36% 37% 38% 39% 40% 41% 42% 43% 45% 46% 47% 48% 49% 50% 51% 52% 53% 54% 55% 56% 57% 58% 59% 60% 61% 63% 64% 65% 66% 67% 68% 69% 70% 71% 72% 73% 74% 75% 76% 77% 78% 79% 81% 82% 83% 84% 85% 86% 87% 88% 89% 90% 91% 92% 93% 94% 95% 96% 97% 99% 100%\n",
      "\n",
      " quadros reais: [31, 213, 262, 308, 361, 410, 459, 508, 559, 606, 708, 804, 901, 1001, 1101, 1198, 1289, 1394, 1445, 1496, 1545, 1592, 1693, 1735, 1772, 1827, 1854, 1939, 1988, 2058, 2081, 2113, 2145, 2170, 2199, 2221, 2245, 2276, 2295, 2316, 2333, 2457, 2732, 2741] \n",
      "\n",
      "acurácia: 0.82 \n",
      "\n",
      "quadros preditos corretamente: [15, 195, 255, 315, 345, 405, 435, 495, 555, 585, 705, 795, 885, 975, 1215, 1275, 1365, 1425, 1605, 1665, 1725, 1815, 1845, 1935, 1965, 2055, 2085, 2115, 2145, 2175, 2205, 2235, 2265, 2295, 2325, 2355] \n",
      "\n",
      "quadros preditos incorretamente: [135, 165, 855, 1245, 1335, 1635, 1905, 2025, 2385]\n"
     ]
    },
    {
     "data": {
      "text/plain": [
       "0.8181818181818182"
      ]
     },
     "execution_count": 51,
     "metadata": {},
     "output_type": "execute_result"
    }
   ],
   "source": [
    "roda_experimento_bic_local_paralelo('marioKartTour360p.mp4', 30, \n",
    "                                    cortes_reais['mario_kart_tour'], limiar_bic_local)"
   ]
  },
  {
   "cell_type": "markdown",
   "metadata": {
    "colab_type": "text",
    "id": "eReqH001mRt8"
   },
   "source": [
    "### Ponto de Federer"
   ]
  },
  {
   "cell_type": "code",
   "execution_count": 52,
   "metadata": {
    "colab": {},
    "colab_type": "code",
    "id": "lb1AQiMimRt9",
    "outputId": "b20e0853-f858-4ead-94ef-fc7c969aabb2"
   },
   "outputs": [
    {
     "name": "stdout",
     "output_type": "stream",
     "text": [
      "0% 1% 2% 2% 3% 4% 5% 6% 6% 7% 8% 9% 10% 10% 11% 12% 13% 14% 14% 15% 16% 17% 18% 18% 19% 20% 21% 22% 23% 23% 24% 25% 26% 27% 27% 28% 29% 30% 31% 31% 32% 33% 34% 35% 35% 36% 37% 38% 39% 39% 40% 41% 42% 43% 43% 44% 45% 46% 47% 48% 48% 49% 50% 51% 52% 52% 53% 54% 55% 56% 56% 57% 58% 59% 60% 60% 61% 62% 63% 64% 64% 65% 66% 67% 68% 69% 69% 70% 71% 72% 73% 73% 74% 75% 76% 77% 77% 78% 79% 80% 81% 81% 82% 83% 84% 85% 85% 86% 87% 88% 89% 89% 90% 91% 92% 93% 94% 94% 95% 96% 97% 98% 98% 99% 100%\n",
      "\n",
      " quadros reais: [20, 154, 178, 436, 668, 821, 927, 936, 947, 1039, 1486, 1553, 1765, 1887, 2949] \n",
      "\n",
      "acurácia: 0.87 \n",
      "\n",
      "quadros preditos corretamente: [13, 138, 163, 413, 663, 813, 913, 1038, 1463, 1538, 1763, 1863, 2938] \n",
      "\n",
      "quadros preditos incorretamente: [88, 338, 538, 563, 613, 713, 738, 763, 1013, 1513, 1838, 1938, 1963, 2088, 2113, 2138, 2188, 2213, 2238, 2338, 2363, 2488, 2513, 2713, 2838, 2863]\n"
     ]
    },
    {
     "data": {
      "text/plain": [
       "0.8666666666666667"
      ]
     },
     "execution_count": 52,
     "metadata": {},
     "output_type": "execute_result"
    }
   ],
   "source": [
    "roda_experimento_bic_local_paralelo('pontoFederer_360p.mp4', 25, \n",
    "                                    cortes_reais['pontos_federer'], limiar_bic_local)"
   ]
  },
  {
   "cell_type": "markdown",
   "metadata": {
    "colab_type": "text",
    "id": "-lWkd9PBmRuB"
   },
   "source": [
    "### Coração Valente"
   ]
  },
  {
   "cell_type": "code",
   "execution_count": 53,
   "metadata": {
    "colab": {},
    "colab_type": "code",
    "id": "G4oodpT_mRuC",
    "outputId": "b85e312f-9bf0-46f0-f17c-319e1307766b"
   },
   "outputs": [
    {
     "name": "stdout",
     "output_type": "stream",
     "text": [
      "0% 0% 1% 1% 2% 2% 3% 3% 4% 4% 5% 5% 6% 6% 7% 7% 8% 8% 9% 9% 10% 10% 11% 11% 12% 12% 12% 13% 13% 14% 14% 15% 15% 16% 16% 17% 17% 18% 18% 19% 19% 20% 20% 21% 21% 22% 22% 23% 23% 24% 24% 25% 25% 26% 26% 27% 27% 28% 28% 29% 29% 30% 30% 31% 31% 32% 32% 33% 33% 34% 34% 35% 35% 36% 36% 36% 37% 37% 38% 38% 39% 39% 40% 40% 41% 41% 42% 42% 43% 43% 44% 44% 45% 45% 46% 46% 47% 47% 48% 48% 49% 49% 50% 50% 51% 51% 52% 52% 53% 53% 54% 54% 55% 55% 56% 56% 57% 57% 58% 58% 59% 59% 60% 60% 61% 61% 61% 62% 62% 63% 63% 64% 64% 65% 65% 66% 66% 67% 67% 68% 68% 69% 69% 70% 70% 71% 71% 72% 72% 73% 73% 74% 74% 75% 75% 76% 76% 77% 77% 78% 78% 79% 79% 80% 80% 81% 81% 82% 82% 83% 83% 84% 84% 85% 85% 85% 86% 86% 87% 87% 88% 88% 89% 89% 90% 90% 91% 91% 92% 92% 93% 93% 94% 94% 95% 95% 96% 96% 97% 97% 98% 98% 99% 99% 100%\n",
      "\n",
      " quadros reais: [23, 37, 108, 197, 338, 459, 528, 562, 587, 643, 708, 742, 787, 820, 982, 1100, 1125, 1237, 1315, 1378, 1436, 1470, 1512, 1570, 1625, 1671, 1733, 1877, 1942, 2073, 2120, 2400, 2428, 2451, 2792, 2914, 3235, 3291, 3311, 3343, 3367, 3451, 3676, 3709, 3743, 3845, 3936, 4081, 4112, 4151, 4317, 4378, 4458, 4506, 4554, 4579, 4618, 4659, 4699, 4750, 4841, 4883, 4940, 4959, 4972, 5016, 5030] \n",
      "\n",
      "acurácia: 0.79 \n",
      "\n",
      "quadros preditos corretamente: [13, 88, 188, 338, 438, 513, 538, 563, 638, 688, 738, 963, 1088, 1113, 1213, 1313, 1363, 1413, 1463, 1488, 1563, 1613, 1663, 1713, 1863, 1938, 2063, 2113, 2388, 2413, 2438, 2788, 3213, 3288, 3338, 3363, 3438, 3663, 3738, 3838, 4063, 4088, 4138, 4313, 4363, 4438, 4538, 4613, 4738, 4838, 4863, 4938, 5013] \n",
      "\n",
      "quadros preditos incorretamente: [488, 863, 938, 1813, 1838, 2513, 2538, 3263, 3638, 3813, 4238]\n"
     ]
    },
    {
     "data": {
      "text/plain": [
       "0.7910447761194029"
      ]
     },
     "execution_count": 53,
     "metadata": {},
     "output_type": "execute_result"
    }
   ],
   "source": [
    "roda_experimento_bic_local_paralelo('coracaoValenteDiscurso_360p.mp4', 25, \n",
    "                                    cortes_reais['coracao_valente'], limiar_bic_local)"
   ]
  },
  {
   "cell_type": "markdown",
   "metadata": {
    "colab_type": "text",
    "id": "L3LxxKCcmRuE"
   },
   "source": [
    "### Trailer de Warcraft"
   ]
  },
  {
   "cell_type": "code",
   "execution_count": 54,
   "metadata": {
    "colab": {},
    "colab_type": "code",
    "id": "4_T9lwlDmRuF",
    "outputId": "de9769ea-5146-47a8-8808-f420f112c867",
    "scrolled": false
   },
   "outputs": [
    {
     "name": "stdout",
     "output_type": "stream",
     "text": [
      "0% 1% 1% 2% 3% 4% 4% 5% 6% 7% 7% 8% 9% 10% 10% 11% 12% 13% 13% 14% 15% 16% 16% 17% 18% 19% 19% 20% 21% 22% 22% 23% 24% 25% 25% 26% 27% 28% 28% 29% 30% 31% 31% 32% 33% 34% 34% 35% 36% 37% 37% 38% 39% 40% 40% 41% 42% 43% 43% 44% 45% 46% 47% 47% 48% 49% 50% 50% 51% 52% 53% 53% 54% 55% 56% 56% 57% 58% 59% 59% 60% 61% 62% 62% 63% 64% 65% 65% 66% 67% 68% 68% 69% 70% 71% 71% 72% 73% 74% 74% 75% 76% 77% 77% 78% 79% 80% 80% 81% 82% 83% 83% 84% 85% 86% 86% 87% 88% 89% 89% 90% 91% 92% 92% 93% 94% 95% 95% 96% 97% 98% 98% 99% 100%\n",
      "\n",
      " quadros reais: [120, 153, 178, 196, 236, 252, 285, 300, 362, 400, 430, 470, 504, 547, 579, 621, 628, 672, 702, 717, 727, 740, 760, 768, 782, 802, 874, 899, 925, 952, 1003, 1039, 1080, 1115, 1147, 1198, 1222, 1262, 1304, 1340, 1353, 1375, 1393, 1408, 1439, 1470, 1494, 1521, 1562, 1580, 1606, 1624, 1636, 1661, 1715, 1758, 1775, 1800, 1829, 1867, 1894, 1959, 1967, 1987, 2004, 2024, 2040, 2084, 2112, 2119, 2136, 2160, 2188, 2219, 2239, 2265, 2273, 2291, 2304, 2326, 2358, 2370, 2382, 2397, 2430, 2448, 2477, 2491, 2508, 2521, 2542, 2556, 2577, 2596, 2625, 2678, 2716, 2730, 2761, 2819, 2860, 2900, 3100, 3114, 3185] \n",
      "\n",
      "acurácia: 0.45 \n",
      "\n",
      "quadros preditos corretamente: [132, 156, 348, 396, 444, 468, 492, 540, 564, 612, 636, 660, 756, 780, 852, 972, 996, 1020, 1068, 1092, 1140, 1428, 1452, 1524, 1548, 1620, 1644, 1668, 1692, 1740, 1980, 2004, 2076, 2100, 2124, 2268, 2316, 2460, 2532, 2580, 2604, 2628, 2676, 2700, 2772, 2820, 2844] \n",
      "\n",
      "quadros preditos incorretamente: []\n"
     ]
    },
    {
     "data": {
      "text/plain": [
       "0.44761904761904764"
      ]
     },
     "execution_count": 54,
     "metadata": {},
     "output_type": "execute_result"
    }
   ],
   "source": [
    "roda_experimento_bic_local_paralelo('warcraftTrailler360p.mp4', 24, \n",
    "                                    cortes_reais['warcraft_trailler'], limiar_bic_local)"
   ]
  },
  {
   "cell_type": "markdown",
   "metadata": {
    "colab_type": "text",
    "id": "58vlUohPmRuH"
   },
   "source": [
    "### Rei Leão"
   ]
  },
  {
   "cell_type": "code",
   "execution_count": 55,
   "metadata": {
    "colab": {},
    "colab_type": "code",
    "id": "jgtZ-E4KmRuI",
    "outputId": "119d0c03-3208-4667-9b66-7bfdc37ad165"
   },
   "outputs": [
    {
     "name": "stdout",
     "output_type": "stream",
     "text": [
      "0% 0% 1% 2% 2% 3% 4% 4% 5% 6% 6% 7% 7% 8% 9% 9% 10% 11% 11% 12% 13% 13% 14% 15% 15% 16% 16% 17% 18% 18% 19% 20% 20% 21% 22% 22% 23% 23% 24% 25% 25% 26% 27% 27% 28% 29% 29% 30% 30% 31% 32% 32% 33% 34% 34% 35% 36% 36% 37% 37% 38% 39% 39% 40% 41% 41% 42% 43% 43% 44% 45% 45% 46% 46% 47% 48% 48% 49% 50% 50% 51% 52% 52% 53% 53% 54% 55% 55% 56% 57% 57% 58% 59% 59% 60% 60% 61% 62% 62% 63% 64% 64% 65% 66% 66% 67% 68% 68% 69% 69% 70% 71% 71% 72% 73% 73% 74% 75% 75% 76% 76% 77% 78% 78% 79% 80% 80% 81% 82% 82% 83% 83% 84% 85% 85% 86% 87% 87% 88% 89% 89% 90% 90% 91% 92% 92% 93% 94% 94% 95% 96% 96% 97% 98% 98% 99% 99% 100%\n",
      "\n",
      " quadros reais: [30, 679, 801, 976, 1027, 1087, 1251, 1301, 1351, 1392, 1563, 1669, 1779, 1815, 1897, 2088, 2279, 2371, 2508, 2535, 2565, 2632, 2728, 2847, 3122, 3229, 3286, 3413, 3649, 3711, 3997, 4117, 4536, 4689] \n",
      "\n",
      "acurácia: 0.59 \n",
      "\n",
      "quadros preditos corretamente: [975, 1005, 1065, 1245, 1365, 1545, 1755, 1785, 1875, 2265, 2355, 2505, 2835, 3105, 3405, 3645, 3705, 3975, 4095, 4515] \n",
      "\n",
      "quadros preditos incorretamente: [345, 405, 1995, 2955, 4635]\n"
     ]
    },
    {
     "data": {
      "text/plain": [
       "0.5882352941176471"
      ]
     },
     "execution_count": 55,
     "metadata": {},
     "output_type": "execute_result"
    }
   ],
   "source": [
    "roda_experimento_bic_local_paralelo('reiLeao_360p.mp4', 30, cortes_reais['rei_leao'], limiar_bic_local)"
   ]
  },
  {
   "cell_type": "code",
   "execution_count": null,
   "metadata": {},
   "outputs": [],
   "source": []
  },
  {
   "cell_type": "code",
   "execution_count": null,
   "metadata": {},
   "outputs": [],
   "source": []
  },
  {
   "cell_type": "code",
   "execution_count": null,
   "metadata": {},
   "outputs": [],
   "source": []
  }
 ],
 "metadata": {
  "colab": {
   "collapsed_sections": [],
   "name": "TP2 - videos.ipynb",
   "provenance": [],
   "toc_visible": true
  },
  "kernelspec": {
   "display_name": "Python 3",
   "language": "python",
   "name": "python3"
  },
  "language_info": {
   "codemirror_mode": {
    "name": "ipython",
    "version": 3
   },
   "file_extension": ".py",
   "mimetype": "text/x-python",
   "name": "python",
   "nbconvert_exporter": "python",
   "pygments_lexer": "ipython3",
   "version": "3.7.3"
  }
 },
 "nbformat": 4,
 "nbformat_minor": 1
}
